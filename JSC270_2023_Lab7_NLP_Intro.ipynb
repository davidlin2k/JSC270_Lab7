{
  "nbformat": 4,
  "nbformat_minor": 0,
  "metadata": {
    "colab": {
      "provenance": [],
      "include_colab_link": true
    },
    "kernelspec": {
      "name": "python3",
      "display_name": "Python 3"
    }
  },
  "cells": [
    {
      "cell_type": "markdown",
      "metadata": {
        "id": "view-in-github",
        "colab_type": "text"
      },
      "source": [
        "<a href=\"https://colab.research.google.com/github/davidlin2k/JSC270_Lab7/blob/main/JSC270_2023_Lab7_NLP_Intro.ipynb\" target=\"_parent\"><img src=\"https://colab.research.google.com/assets/colab-badge.svg\" alt=\"Open In Colab\"/></a>"
      ]
    },
    {
      "cell_type": "markdown",
      "metadata": {
        "id": "UGb7zK-ynoaY"
      },
      "source": [
        "# JSC270 Lab 7: Intro to Natural Language Processing\n"
      ]
    },
    {
      "cell_type": "markdown",
      "metadata": {
        "id": "Si_aWMP8n5cr"
      },
      "source": [
        "## Some announcements before we start:\n",
        "- The code (jupyter notebook) from Alastair Johnson's lecture on Monday has been posted to the class website. The notebook generates his slides.\n",
        "\n",
        "- Assignment 3 is due on Friday at 10:59am.\n",
        "\n",
        "- The first part of Assignment 4 is to find a group member. Please do so and sign up on this sheet."
      ]
    },
    {
      "cell_type": "markdown",
      "metadata": {
        "id": "OzjkN4q4pN9E"
      },
      "source": [
        "## 1. Working with Strings in Python\n",
        "\n",
        "- In python (and most other programming languages), we represent text using __strings__, which are just sequences of characters stored as arrays\n",
        "- You can assign a string object in python using single or double quotes\n",
        "- Triple quotes can be used for a multiline strings\n",
        "- Strings can be concatenated (added together) with the '+' symbol"
      ]
    },
    {
      "cell_type": "code",
      "metadata": {
        "colab": {
          "base_uri": "https://localhost:8080/"
        },
        "id": "Uye8hHFFus4j",
        "outputId": "8122f065-8db0-4d82-af5b-496b0a342978"
      },
      "source": [
        "string1 = 'This is how we store text'\n",
        "string2 = \"We could store text like this too, with double quotes\"\n",
        "string3 = '''I'm a multiline string. This is very useful for representing \n",
        "larger volumes of text, like paragraphs of a book.'''\n",
        "\n",
        "\n",
        "print(string1 + '\\n', string2 + '\\n', string3)\n",
        "print(string1 + '. ' + string2)"
      ],
      "execution_count": 1,
      "outputs": [
        {
          "output_type": "stream",
          "name": "stdout",
          "text": [
            "This is how we store text\n",
            " We could store text like this too, with double quotes\n",
            " I'm a multiline string. This is very useful for representing \n",
            "larger volumes of text, like paragraphs of a book.\n",
            "This is how we store text. We could store text like this too, with double quotes\n"
          ]
        }
      ]
    },
    {
      "cell_type": "markdown",
      "metadata": {
        "id": "qRvu8pQ57X4O"
      },
      "source": [
        "- Because python strings are represented as arrays, we can also iterate and slice them, just like with a regular array (i.e. a list)\n",
        "- Since strings are represented with quotation marks, if we ever want quotes within the string itself, we need to use the backslash (called the escape character)"
      ]
    },
    {
      "cell_type": "code",
      "metadata": {
        "colab": {
          "base_uri": "https://localhost:8080/"
        },
        "id": "FUqJCSQk7yCo",
        "outputId": "12906f61-18cf-4fe5-ca14-4aaa4d9eb93a"
      },
      "source": [
        "# print the first 5 characters of string 3\n",
        "print(string3[:5])\n",
        "\n",
        "# Iterate through the first 4 characters of string 1\n",
        "for i in range(5):\n",
        "  print(string1[i])\n",
        "\n",
        "# Create a string with quotation marks\n",
        "quote_string = 'This string \\'actually\\' has quotation marks in it'\n",
        "print(quote_string)"
      ],
      "execution_count": 2,
      "outputs": [
        {
          "output_type": "stream",
          "name": "stdout",
          "text": [
            "I'm a\n",
            "T\n",
            "h\n",
            "i\n",
            "s\n",
            " \n",
            "This string 'actually' has quotation marks in it\n"
          ]
        }
      ]
    },
    {
      "cell_type": "markdown",
      "metadata": {
        "id": "lkfnLzc58Sra"
      },
      "source": [
        "- Note that in the printout, the 5th element of `string1` was printed. It just happened to be whitespace, which is treated as its character. This is an important detail - hidden whitespace can make it difficult for you to clean text data.\n",
        "\n",
        "- Python also has a set of methods designed for you to modify existing strings:"
      ]
    },
    {
      "cell_type": "code",
      "metadata": {
        "colab": {
          "base_uri": "https://localhost:8080/"
        },
        "id": "CsnjHhTy88AD",
        "outputId": "b3c38ea4-5e9b-4526-b5c7-dea3ca05e96a"
      },
      "source": [
        "a = 'THIS STRING IS ALL CAPITAL LETTERS'\n",
        "b = 'this string has all lowercase letters'\n",
        "c = '     This string has extra whitespace   '\n",
        "d = 'This string has exactly zne misspelling'\n",
        "\n",
        "# Convert a to lowercase\n",
        "print('Convert a to lowercase:',a.lower())\n",
        "\n",
        "# Convert b into capitals\n",
        "print('Convert b to capitals:', b.upper())\n",
        "\n",
        "# Remove excess whitespace from beginning and end of string\n",
        "print('Take the whitespace off the beg and end of c:', c.strip())\n",
        "\n",
        "# Replace characters as needed\n",
        "print('Fix the typo in d:',d.replace('z','o'))"
      ],
      "execution_count": 3,
      "outputs": [
        {
          "output_type": "stream",
          "name": "stdout",
          "text": [
            "Convert a to lowercase: this string is all capital letters\n",
            "Convert b to capitals: THIS STRING HAS ALL LOWERCASE LETTERS\n",
            "Take the whitespace off the beg and end of c: This string has extra whitespace\n",
            "Fix the typo in d: This string has exactly one misspelling\n"
          ]
        }
      ]
    },
    {
      "cell_type": "markdown",
      "metadata": {
        "id": "7s7dYzyy_jQD"
      },
      "source": [
        "- Some of these methods can accept as inputs strings longer than one character\n",
        "- Just be careful: Methods act over the entire string, so you may modify parts of text you didn't expect\n",
        "- You can also chain these methods together to create a small pipeline"
      ]
    },
    {
      "cell_type": "code",
      "metadata": {
        "colab": {
          "base_uri": "https://localhost:8080/",
          "height": 35
        },
        "id": "4ma4uLE5_80a",
        "outputId": "c6316dd1-24df-4558-ea50-5e8011ebfd7e"
      },
      "source": [
        "d.replace('z','o').replace('one', 'zero').replace('misspelling','misspellings')"
      ],
      "execution_count": 4,
      "outputs": [
        {
          "output_type": "execute_result",
          "data": {
            "text/plain": [
              "'This string has exactly zero misspellings'"
            ],
            "application/vnd.google.colaboratory.intrinsic+json": {
              "type": "string"
            }
          },
          "metadata": {},
          "execution_count": 4
        }
      ]
    },
    {
      "cell_type": "markdown",
      "metadata": {
        "id": "K4hchYJ7Any0"
      },
      "source": [
        "- We can use the `split` method to split a string of running text into a list of words. By default, it separates by whitespace. But you can give a different delimiter."
      ]
    },
    {
      "cell_type": "code",
      "metadata": {
        "colab": {
          "base_uri": "https://localhost:8080/"
        },
        "id": "PxAJYH8fD3Q1",
        "outputId": "9f44062e-97e7-4fc8-e302-af16e71a28a4"
      },
      "source": [
        "s = 'This is a list of words we might want to separate.'\n",
        "\n",
        "# Separate string s into a list of words\n",
        "s.split()"
      ],
      "execution_count": 5,
      "outputs": [
        {
          "output_type": "execute_result",
          "data": {
            "text/plain": [
              "['This',\n",
              " 'is',\n",
              " 'a',\n",
              " 'list',\n",
              " 'of',\n",
              " 'words',\n",
              " 'we',\n",
              " 'might',\n",
              " 'want',\n",
              " 'to',\n",
              " 'separate.']"
            ]
          },
          "metadata": {},
          "execution_count": 5
        }
      ]
    },
    {
      "cell_type": "markdown",
      "metadata": {
        "id": "CXnvLsGVEHqm"
      },
      "source": [
        "Notice that we did not remove the punctuation. We'll look at how to do that shortly.\n",
        "- There are many other useful methods not covered here (Google is your friend here)"
      ]
    },
    {
      "cell_type": "markdown",
      "metadata": {
        "id": "WmS83pWxEUdS"
      },
      "source": [
        "<br>\n",
        "\n",
        "<br>\n",
        "\n",
        "__Q: Based on what you've just seen, how might we remove the punctuation?__ There's more than one right answer here."
      ]
    },
    {
      "cell_type": "code",
      "metadata": {
        "id": "lfSDpYF9Elj-"
      },
      "source": [
        "## Answer\n"
      ],
      "execution_count": 6,
      "outputs": []
    },
    {
      "cell_type": "markdown",
      "metadata": {
        "id": "-PSI6boOo8nd"
      },
      "source": [
        "## 2. Pattern Identification with Regular Expressions\n",
        "\n",
        "- What if we didn't create the string, but we wanted to find it based on a specific pattern it might contain?\n",
        "\n",
        "- __Regular Expressions__, or regex for short, are sequences of characters designed to specify search patterns. They can be used to find strings containing specific patterns, or to replace specific parts of a string. These patterns are defined at the character level.\n",
        "\n",
        "- Regex uses certain metacharacters to span larger string patterns with short syntax. For example:\n",
        "    - `[a-q]` is used to denote any (lowercase) letter between a and q\n",
        "    - `\\w` is used to denote any alphanumeric character (any number or letter)\n",
        "\n",
        "- Virtually every programming language has some sort of regex implementation. We'll use python's `re` package\n"
      ]
    },
    {
      "cell_type": "code",
      "metadata": {
        "id": "aNxOIyLrSVYd"
      },
      "source": [
        "import re\n",
        "\n",
        "# Let's define some strings, representing what we might see text\n",
        "\n",
        "a = 'half a league, half a league, half a league onward!'\n",
        "b = 'John Smith, Toronto, Canada, L2G0C8'\n",
        "c = 'assignment1.csv, assignment2.txt, assignment3.pdf'\n",
        "d = 'The review committee for 2018 approved a travel budget of $2800'"
      ],
      "execution_count": 7,
      "outputs": []
    },
    {
      "cell_type": "markdown",
      "metadata": {
        "id": "KAuOQdj-W3rG"
      },
      "source": [
        "We can use regex to identify (and possibly remove) certain parts of these strings. The following are commonly used patterns:\n",
        "- `[A-Zz-z]` denotes all letters (capital and lowercase)\n",
        "- `[0-5][5-9]` denotes any 2 digit number between 05 and 59\n",
        "- `[abcd]` denotes a or b or c or d (but only one of them) \n",
        "- `[^def]` denotes any character that is not d or e or f\n",
        "- `.` The period is a wildcard - denotes any character\n",
        "- `\\w` denotes any alphanumeric character\n",
        "- `\\s` denotes whitespace\n",
        "- `\\S` denotes any non-whitespace character\n",
        "\n",
        "Using the strings defined above, let's try and find/extract information:"
      ]
    },
    {
      "cell_type": "code",
      "metadata": {
        "colab": {
          "base_uri": "https://localhost:8080/"
        },
        "id": "lixWbFI_ZYez",
        "outputId": "8b73b9c5-25bb-4443-9907-2c6b377aa2d0"
      },
      "source": [
        "#### How often does the phrase 'Half a league' occur in a? ####\n",
        "result = re.findall('[Hh]alf a league', a)\n",
        "print(result)\n",
        "\n",
        "# This function returns a list of all the matches for my search (Note the regex used)\n",
        "print('The phrase \\'half a league\\' occurs {} times in a'.format(len(result)))"
      ],
      "execution_count": 8,
      "outputs": [
        {
          "output_type": "stream",
          "name": "stdout",
          "text": [
            "['half a league', 'half a league', 'half a league']\n",
            "The phrase 'half a league' occurs 3 times in a\n"
          ]
        }
      ]
    },
    {
      "cell_type": "code",
      "metadata": {
        "colab": {
          "base_uri": "https://localhost:8080/"
        },
        "id": "h9Tf1XZgbMpM",
        "outputId": "dc275dd1-75c1-4c22-c585-51c530297c22"
      },
      "source": [
        "#### What types of files are contained in c? #####\n",
        "result = re.findall('\\.([a-z]{3})', c)\n",
        "print(result)"
      ],
      "execution_count": 9,
      "outputs": [
        {
          "output_type": "stream",
          "name": "stdout",
          "text": [
            "['csv', 'txt', 'pdf']\n"
          ]
        }
      ]
    },
    {
      "cell_type": "markdown",
      "metadata": {
        "id": "MAZRNUaecR03"
      },
      "source": [
        "For that last example, notice:\n",
        "- Since the `.` is a wildcard character by default, if I actually want to look for a period, I need to use the backslash (escape character) to denote it\n",
        "- The `{}` are used as shorthand to repeat a character within the search pattern (in this case I was look for three digits in a row).\n",
        "- The `()` form what's called a __capture group__. This is used to separate the pattern I searched for from the information I actually need. In this case, the period is necessary to find the file formats, but I don't actually want it returned with the other three digits, so I exclude it from the capture group."
      ]
    },
    {
      "cell_type": "code",
      "metadata": {
        "colab": {
          "base_uri": "https://localhost:8080/"
        },
        "id": "86qa13A9dEuL",
        "outputId": "35fb5a52-5fc3-4a86-d74a-e21a396f1fb1"
      },
      "source": [
        "#### Is the budget in d for 2018 greater than $1000?\n",
        "budget = re.findall('\\$([0-9]+)',d)\n",
        "\n",
        "print(budget)\n",
        "print( (float(budget[0]) > 1000) )"
      ],
      "execution_count": 10,
      "outputs": [
        {
          "output_type": "stream",
          "name": "stdout",
          "text": [
            "['2800']\n",
            "True\n"
          ]
        }
      ]
    },
    {
      "cell_type": "markdown",
      "metadata": {
        "id": "pscBU5sFido7"
      },
      "source": [
        "Note the `+`, which is called the Kleene Plus. It is used to indicate '1 or more' of some character. The `*` is called the Kleene star, and is used to specify 'zero or more'. With both of these symbols, there is no upper limit (ie `[0-9]+` could potentially capture a string of 10000 digits if that exists)."
      ]
    },
    {
      "cell_type": "code",
      "metadata": {
        "colab": {
          "base_uri": "https://localhost:8080/"
        },
        "id": "q4UkYco6jJla",
        "outputId": "0add7e19-3e84-462d-8531-519a2af9f4c1"
      },
      "source": [
        "#### Replace the year and budget in d with 2019 and $30000 ####\n",
        "print('Original string:\\n', d)\n",
        "new_budget = re.sub('\\$[0-9]+','$30000', d)\n",
        "print('Changed budget:\\n',new_budget)\n",
        "\n",
        "new_year = re.sub('\\s\\d+\\s', ' 2019 ', new_budget)\n",
        "print('Both changes:\\n',new_year)"
      ],
      "execution_count": 11,
      "outputs": [
        {
          "output_type": "stream",
          "name": "stdout",
          "text": [
            "Original string:\n",
            " The review committee for 2018 approved a travel budget of $2800\n",
            "Changed budget:\n",
            " The review committee for 2018 approved a travel budget of $30000\n",
            "Both changes:\n",
            " The review committee for 2019 approved a travel budget of $30000\n"
          ]
        }
      ]
    },
    {
      "cell_type": "markdown",
      "metadata": {
        "id": "qkK4N0KBkjga"
      },
      "source": [
        "Remember that `\\s` denotes whitespace. `\\d` is short notation for any digit `[0-9]`. The regex for new year can be read as \"[Whitespace][One or more digits][Whitespace]\".\n",
        "\n",
        "<br>\n",
        "\n",
        "<br>\n",
        "\n",
        "__Q: What would happen in the above example if I didn't include the whitespace indicators in my regular expression?__ "
      ]
    },
    {
      "cell_type": "code",
      "metadata": {
        "id": "ZfmGBgxyk91q"
      },
      "source": [
        "# Answer"
      ],
      "execution_count": 12,
      "outputs": []
    },
    {
      "cell_type": "markdown",
      "metadata": {
        "id": "wnkwocnal4vM"
      },
      "source": [
        "<br> \n",
        "\n",
        "<br>"
      ]
    },
    {
      "cell_type": "code",
      "metadata": {
        "colab": {
          "base_uri": "https://localhost:8080/"
        },
        "id": "kiTvozN8lhOu",
        "outputId": "b7ded65a-8283-4161-a8db-6c1290c0b5ed"
      },
      "source": [
        "#### Extract the name and Postal code from b ####\n",
        "print(b)\n",
        "\n",
        "# There may be ways to do this\n",
        "post_code = re.search('[A-Z]\\d[A-Z]\\s?\\d[A-Z]\\d', b)\n",
        "print('Postal Code:', post_code.group())\n",
        "\n",
        "# Names will almost always start with capital letters\n",
        "# Also, there will be two of them consecutively\n",
        "\n",
        "name = re.search('[A-Z][a-z]+\\s+[A-Z][a-z]+', b)\n",
        "print('Name:', name.group())"
      ],
      "execution_count": 13,
      "outputs": [
        {
          "output_type": "stream",
          "name": "stdout",
          "text": [
            "John Smith, Toronto, Canada, L2G0C8\n",
            "Postal Code: L2G0C8\n",
            "Name: John Smith\n"
          ]
        }
      ]
    },
    {
      "cell_type": "markdown",
      "metadata": {
        "id": "Gii8vAkOuQpX"
      },
      "source": [
        "Notice for the regex in the postal code extraction, I simply followed the pattern of a postal code (letter, number, letter, ...). The `?` symbol makes the preceding character optional. Since some postal codes contain spaces, this search pattern is now robust to that possibility.\n",
        "\n",
        "<br>\n",
        "\n",
        "<br>\n",
        "\n",
        "__Q: What would be the regular expression for extracting Twitter handles?(e.g. @xyz)__. "
      ]
    },
    {
      "cell_type": "code",
      "metadata": {
        "id": "fuZ-L7zLu4t1"
      },
      "source": [
        "# Answer\n"
      ],
      "execution_count": 14,
      "outputs": []
    },
    {
      "cell_type": "markdown",
      "metadata": {
        "id": "S2B2PyTIu8Tu"
      },
      "source": [
        "- The ones we've seen today are just a small portion of the whole language. I encourage you to read further into them, since you will likely use them in later courses.\n",
        "- __Regexone__ hosts a great sequence of tutorials on regular expressions, which you can visit [here](https://regexone.com/).\n"
      ]
    },
    {
      "cell_type": "markdown",
      "metadata": {
        "id": "P-La_D2XpYV8"
      },
      "source": [
        "<br>\n",
        "\n",
        "<br>\n",
        "\n",
        "## 3. Today's Dataset \n",
        "\n",
        "- Today we'll be doing binary classification (spam detection) with email messages. Our dataset is a subsample of a larger set that comes from the Machine Learning Repository at UC Irvine. This particular data (as is often the case) was used for a Kaggle competition, which you can read about [here](https://www.kaggle.com/uciml/sms-spam-collection-dataset/tasks). \n",
        "\n",
        "- The dataset contains 5572 observations, with the message itself, and the label (spam/ham). The file `spam.csv` is listed alongside the link to this notebook. \n",
        "\n",
        "<br>\n",
        "\n",
        "__The dataset is available here [here](https://drive.google.com/file/d/10vSo6HaJDVqCgti07q87KkpCMYzdJf6v/view?usp=sharing). We will load it into this notebook using the code below calling the data from the professor's GitHub repo__. "
      ]
    },
    {
      "cell_type": "code",
      "metadata": {
        "colab": {
          "base_uri": "https://localhost:8080/"
        },
        "id": "7VqgP9BB3oOV",
        "outputId": "8bb5e152-8b2b-4ae3-b006-99ebe160f435"
      },
      "source": [
        "# Read in data from github \n",
        "!wget \"https://raw.githubusercontent.com/harrig12/JSC270_Lab7/master/spam.csv\""
      ],
      "execution_count": 18,
      "outputs": [
        {
          "output_type": "stream",
          "name": "stdout",
          "text": [
            "--2023-03-09 21:22:16--  https://raw.githubusercontent.com/harrig12/JSC270_Lab7/master/spam.csv\n",
            "Resolving raw.githubusercontent.com (raw.githubusercontent.com)... 185.199.108.133, 185.199.109.133, 185.199.110.133, ...\n",
            "Connecting to raw.githubusercontent.com (raw.githubusercontent.com)|185.199.108.133|:443... connected.\n",
            "HTTP request sent, awaiting response... 200 OK\n",
            "Length: 503663 (492K) [text/plain]\n",
            "Saving to: ‘spam.csv.1’\n",
            "\n",
            "\rspam.csv.1            0%[                    ]       0  --.-KB/s               \rspam.csv.1          100%[===================>] 491.86K  --.-KB/s    in 0.02s   \n",
            "\n",
            "2023-03-09 21:22:16 (30.5 MB/s) - ‘spam.csv.1’ saved [503663/503663]\n",
            "\n"
          ]
        }
      ]
    },
    {
      "cell_type": "code",
      "source": [
        "import pandas as pd \n",
        "df = pd.read_csv(r\"/content/spam.csv\", encoding= 'latin1')"
      ],
      "metadata": {
        "id": "un6kQXLrLIbY"
      },
      "execution_count": 19,
      "outputs": []
    },
    {
      "cell_type": "code",
      "metadata": {
        "id": "RGonL-ko3_4U",
        "colab": {
          "base_uri": "https://localhost:8080/"
        },
        "outputId": "1ee04b18-0d0c-4cd9-f127-ff46c88093e9"
      },
      "source": [
        "# You'll know you were successful if this code works\n",
        "import numpy as np\n",
        "\n",
        "print(df.head(5))"
      ],
      "execution_count": 20,
      "outputs": [
        {
          "output_type": "stream",
          "name": "stdout",
          "text": [
            "     v1                                                 v2 Unnamed: 2  \\\n",
            "0   ham  Go until jurong point, crazy.. Available only ...        NaN   \n",
            "1   ham                      Ok lar... Joking wif u oni...        NaN   \n",
            "2  spam  Free entry in 2 a wkly comp to win FA Cup fina...        NaN   \n",
            "3   ham  U dun say so early hor... U c already then say...        NaN   \n",
            "4   ham  Nah I don't think he goes to usf, he lives aro...        NaN   \n",
            "\n",
            "  Unnamed: 3 Unnamed: 4  \n",
            "0        NaN        NaN  \n",
            "1        NaN        NaN  \n",
            "2        NaN        NaN  \n",
            "3        NaN        NaN  \n",
            "4        NaN        NaN  \n"
          ]
        }
      ]
    },
    {
      "cell_type": "markdown",
      "metadata": {
        "id": "JKXgvWLS5xms"
      },
      "source": [
        "- Note the `encoding` argument passed to the `read_csv` method. CSV files can often be encoded in a number of different ways. The standard is `encoding = 'utf-8'`, however there are other systems, like `'latin1'`.\n",
        "\n",
        "You can run the following code to get an idea of what we're dealing with:"
      ]
    },
    {
      "cell_type": "code",
      "metadata": {
        "id": "W23qliQu6vK7",
        "colab": {
          "base_uri": "https://localhost:8080/"
        },
        "outputId": "bfd1f846-a9f6-44ea-9a11-4e410e47f6f7"
      },
      "source": [
        "# This function will print a random email message\n",
        "def print_random_message():\n",
        "  i = np.random.randint(len(df))\n",
        "  message = df.iloc[i,1]\n",
        "  label = df.iloc[i,0]\n",
        "  print('Here is one of the messages:\\n', message)\n",
        "  print('It is labelled as:\\n',label)\n",
        "\n",
        "# call the function\n",
        "print_random_message()"
      ],
      "execution_count": 21,
      "outputs": [
        {
          "output_type": "stream",
          "name": "stdout",
          "text": [
            "Here is one of the messages:\n",
            " Sent me de webadres for geting salary slip\n",
            "It is labelled as:\n",
            " ham\n"
          ]
        }
      ]
    },
    {
      "cell_type": "markdown",
      "metadata": {
        "id": "nnp8xf7N7IE7"
      },
      "source": [
        "Before we do anything with the text itself, the df needs a bit of tidying. The default parser gave us some extra columns:"
      ]
    },
    {
      "cell_type": "code",
      "metadata": {
        "id": "c5YWh6Vt7T2c",
        "colab": {
          "base_uri": "https://localhost:8080/"
        },
        "outputId": "9bd899a0-f5dd-4699-c8fa-5c218bf8ea92"
      },
      "source": [
        "# How many columns are there now?\n",
        "print('The columns read in are:',list(df))\n",
        "\n",
        "# The datset should only contain {label, message}\n",
        "data = df.drop(['Unnamed: 2', 'Unnamed: 3', 'Unnamed: 4'], axis = 1)\n",
        "# rename other columns while we're at it\n",
        "data.columns = ['label', 'message']\n",
        "print('Now we keep just what we need:\\n', data.head())"
      ],
      "execution_count": 22,
      "outputs": [
        {
          "output_type": "stream",
          "name": "stdout",
          "text": [
            "The columns read in are: ['v1', 'v2', 'Unnamed: 2', 'Unnamed: 3', 'Unnamed: 4']\n",
            "Now we keep just what we need:\n",
            "   label                                            message\n",
            "0   ham  Go until jurong point, crazy.. Available only ...\n",
            "1   ham                      Ok lar... Joking wif u oni...\n",
            "2  spam  Free entry in 2 a wkly comp to win FA Cup fina...\n",
            "3   ham  U dun say so early hor... U c already then say...\n",
            "4   ham  Nah I don't think he goes to usf, he lives aro...\n"
          ]
        }
      ]
    },
    {
      "cell_type": "code",
      "source": [
        "data.head()"
      ],
      "metadata": {
        "colab": {
          "base_uri": "https://localhost:8080/",
          "height": 204
        },
        "id": "lAOaknXaMClq",
        "outputId": "3466ea2b-d3ce-4205-ba51-f2ed3a75f44c"
      },
      "execution_count": 23,
      "outputs": [
        {
          "output_type": "execute_result",
          "data": {
            "text/plain": [
              "  label                                            message\n",
              "0   ham  Go until jurong point, crazy.. Available only ...\n",
              "1   ham                      Ok lar... Joking wif u oni...\n",
              "2  spam  Free entry in 2 a wkly comp to win FA Cup fina...\n",
              "3   ham  U dun say so early hor... U c already then say...\n",
              "4   ham  Nah I don't think he goes to usf, he lives aro..."
            ],
            "text/html": [
              "\n",
              "  <div id=\"df-e23ce316-2ef0-438b-8f79-1dbf2e342819\">\n",
              "    <div class=\"colab-df-container\">\n",
              "      <div>\n",
              "<style scoped>\n",
              "    .dataframe tbody tr th:only-of-type {\n",
              "        vertical-align: middle;\n",
              "    }\n",
              "\n",
              "    .dataframe tbody tr th {\n",
              "        vertical-align: top;\n",
              "    }\n",
              "\n",
              "    .dataframe thead th {\n",
              "        text-align: right;\n",
              "    }\n",
              "</style>\n",
              "<table border=\"1\" class=\"dataframe\">\n",
              "  <thead>\n",
              "    <tr style=\"text-align: right;\">\n",
              "      <th></th>\n",
              "      <th>label</th>\n",
              "      <th>message</th>\n",
              "    </tr>\n",
              "  </thead>\n",
              "  <tbody>\n",
              "    <tr>\n",
              "      <th>0</th>\n",
              "      <td>ham</td>\n",
              "      <td>Go until jurong point, crazy.. Available only ...</td>\n",
              "    </tr>\n",
              "    <tr>\n",
              "      <th>1</th>\n",
              "      <td>ham</td>\n",
              "      <td>Ok lar... Joking wif u oni...</td>\n",
              "    </tr>\n",
              "    <tr>\n",
              "      <th>2</th>\n",
              "      <td>spam</td>\n",
              "      <td>Free entry in 2 a wkly comp to win FA Cup fina...</td>\n",
              "    </tr>\n",
              "    <tr>\n",
              "      <th>3</th>\n",
              "      <td>ham</td>\n",
              "      <td>U dun say so early hor... U c already then say...</td>\n",
              "    </tr>\n",
              "    <tr>\n",
              "      <th>4</th>\n",
              "      <td>ham</td>\n",
              "      <td>Nah I don't think he goes to usf, he lives aro...</td>\n",
              "    </tr>\n",
              "  </tbody>\n",
              "</table>\n",
              "</div>\n",
              "      <button class=\"colab-df-convert\" onclick=\"convertToInteractive('df-e23ce316-2ef0-438b-8f79-1dbf2e342819')\"\n",
              "              title=\"Convert this dataframe to an interactive table.\"\n",
              "              style=\"display:none;\">\n",
              "        \n",
              "  <svg xmlns=\"http://www.w3.org/2000/svg\" height=\"24px\"viewBox=\"0 0 24 24\"\n",
              "       width=\"24px\">\n",
              "    <path d=\"M0 0h24v24H0V0z\" fill=\"none\"/>\n",
              "    <path d=\"M18.56 5.44l.94 2.06.94-2.06 2.06-.94-2.06-.94-.94-2.06-.94 2.06-2.06.94zm-11 1L8.5 8.5l.94-2.06 2.06-.94-2.06-.94L8.5 2.5l-.94 2.06-2.06.94zm10 10l.94 2.06.94-2.06 2.06-.94-2.06-.94-.94-2.06-.94 2.06-2.06.94z\"/><path d=\"M17.41 7.96l-1.37-1.37c-.4-.4-.92-.59-1.43-.59-.52 0-1.04.2-1.43.59L10.3 9.45l-7.72 7.72c-.78.78-.78 2.05 0 2.83L4 21.41c.39.39.9.59 1.41.59.51 0 1.02-.2 1.41-.59l7.78-7.78 2.81-2.81c.8-.78.8-2.07 0-2.86zM5.41 20L4 18.59l7.72-7.72 1.47 1.35L5.41 20z\"/>\n",
              "  </svg>\n",
              "      </button>\n",
              "      \n",
              "  <style>\n",
              "    .colab-df-container {\n",
              "      display:flex;\n",
              "      flex-wrap:wrap;\n",
              "      gap: 12px;\n",
              "    }\n",
              "\n",
              "    .colab-df-convert {\n",
              "      background-color: #E8F0FE;\n",
              "      border: none;\n",
              "      border-radius: 50%;\n",
              "      cursor: pointer;\n",
              "      display: none;\n",
              "      fill: #1967D2;\n",
              "      height: 32px;\n",
              "      padding: 0 0 0 0;\n",
              "      width: 32px;\n",
              "    }\n",
              "\n",
              "    .colab-df-convert:hover {\n",
              "      background-color: #E2EBFA;\n",
              "      box-shadow: 0px 1px 2px rgba(60, 64, 67, 0.3), 0px 1px 3px 1px rgba(60, 64, 67, 0.15);\n",
              "      fill: #174EA6;\n",
              "    }\n",
              "\n",
              "    [theme=dark] .colab-df-convert {\n",
              "      background-color: #3B4455;\n",
              "      fill: #D2E3FC;\n",
              "    }\n",
              "\n",
              "    [theme=dark] .colab-df-convert:hover {\n",
              "      background-color: #434B5C;\n",
              "      box-shadow: 0px 1px 3px 1px rgba(0, 0, 0, 0.15);\n",
              "      filter: drop-shadow(0px 1px 2px rgba(0, 0, 0, 0.3));\n",
              "      fill: #FFFFFF;\n",
              "    }\n",
              "  </style>\n",
              "\n",
              "      <script>\n",
              "        const buttonEl =\n",
              "          document.querySelector('#df-e23ce316-2ef0-438b-8f79-1dbf2e342819 button.colab-df-convert');\n",
              "        buttonEl.style.display =\n",
              "          google.colab.kernel.accessAllowed ? 'block' : 'none';\n",
              "\n",
              "        async function convertToInteractive(key) {\n",
              "          const element = document.querySelector('#df-e23ce316-2ef0-438b-8f79-1dbf2e342819');\n",
              "          const dataTable =\n",
              "            await google.colab.kernel.invokeFunction('convertToInteractive',\n",
              "                                                     [key], {});\n",
              "          if (!dataTable) return;\n",
              "\n",
              "          const docLinkHtml = 'Like what you see? Visit the ' +\n",
              "            '<a target=\"_blank\" href=https://colab.research.google.com/notebooks/data_table.ipynb>data table notebook</a>'\n",
              "            + ' to learn more about interactive tables.';\n",
              "          element.innerHTML = '';\n",
              "          dataTable['output_type'] = 'display_data';\n",
              "          await google.colab.output.renderOutput(dataTable, element);\n",
              "          const docLink = document.createElement('div');\n",
              "          docLink.innerHTML = docLinkHtml;\n",
              "          element.appendChild(docLink);\n",
              "        }\n",
              "      </script>\n",
              "    </div>\n",
              "  </div>\n",
              "  "
            ]
          },
          "metadata": {},
          "execution_count": 23
        }
      ]
    },
    {
      "cell_type": "markdown",
      "metadata": {
        "id": "oIjxagJy9S8_"
      },
      "source": [
        "The last thing I'm going to do before we look at the text is change the labels to numeric (1 = spam). Remember, in binary classification we usually want to make the minority outcome the positive class, since it is usually what we're interested in. While I'm at it, let's examine the balance between the classes. "
      ]
    },
    {
      "cell_type": "code",
      "metadata": {
        "id": "KoYaMK4n9nuD",
        "colab": {
          "base_uri": "https://localhost:8080/"
        },
        "outputId": "32d31599-f589-44a9-dd14-4822ff720b90"
      },
      "source": [
        "# Change spam = 1, ham = 0\n",
        "data.label = (data.label == 'spam').astype(float)\n",
        "\n",
        "print(data.head(5),'\\n\\n')\n",
        "\n",
        "# Compute proportion of spam observations\n",
        "spam_proportion = round(data.label.sum()/len(data), 2)\n",
        "print('Spam labels make up approximately {} percent of the dataset'.format(spam_proportion))"
      ],
      "execution_count": 24,
      "outputs": [
        {
          "output_type": "stream",
          "name": "stdout",
          "text": [
            "   label                                            message\n",
            "0    0.0  Go until jurong point, crazy.. Available only ...\n",
            "1    0.0                      Ok lar... Joking wif u oni...\n",
            "2    1.0  Free entry in 2 a wkly comp to win FA Cup fina...\n",
            "3    0.0  U dun say so early hor... U c already then say...\n",
            "4    0.0  Nah I don't think he goes to usf, he lives aro... \n",
            "\n",
            "\n",
            "Spam labels make up approximately 0.13 percent of the dataset\n"
          ]
        }
      ]
    },
    {
      "cell_type": "markdown",
      "metadata": {
        "id": "RCLU5PJw_M4h"
      },
      "source": [
        "So we have about an 87/13 split, which is very imbalanced. Keep this in mind later, when we fit a classifier and evaluate its performance. Let's see an example of each type of message:"
      ]
    },
    {
      "cell_type": "code",
      "metadata": {
        "id": "wrJY8WjYB727",
        "colab": {
          "base_uri": "https://localhost:8080/"
        },
        "outputId": "d8e79ddb-23a6-46fc-f18e-b47809e3f2fd"
      },
      "source": [
        "np.random.seed(16)\n",
        "print_random_message()\n",
        "print_random_message()"
      ],
      "execution_count": 25,
      "outputs": [
        {
          "output_type": "stream",
          "name": "stdout",
          "text": [
            "Here is one of the messages:\n",
            " Shop till u Drop, IS IT YOU, either 10K, 5K, å£500 Cash or å£100 Travel voucher, Call now, 09064011000. NTT PO Box CR01327BT fixedline Cost 150ppm mobile vary\n",
            "It is labelled as:\n",
            " spam\n",
            "Here is one of the messages:\n",
            " Ok anyway no need to change with what you said\n",
            "It is labelled as:\n",
            " ham\n"
          ]
        }
      ]
    },
    {
      "cell_type": "markdown",
      "metadata": {
        "id": "6NEkVTryB_TO"
      },
      "source": [
        "<br>\n",
        "\n",
        "<br>\n",
        "\n",
        "__Q: Looking at the two messages above, and using your own intuition, what characteristics do you think SPAM emails have that HAM emails do not?__ \n",
        "\n",
        "<br>"
      ]
    },
    {
      "cell_type": "code",
      "source": [
        "# Answer"
      ],
      "metadata": {
        "id": "pY9W5StMG-Kp"
      },
      "execution_count": 26,
      "outputs": []
    },
    {
      "cell_type": "markdown",
      "metadata": {
        "id": "wlBmzSUOn_MX"
      },
      "source": [
        "## 4. Tokenization and Cleaning\n",
        "\n",
        "<br>\n",
        "\n",
        "- In terms of predictive power, using an entire sentence (or series of sentences) is not very effective. Most of the words won't matter for predicting spam, but certain groups of characters can be very important. First, some terminology: \n",
        "\n",
        "- In NLP, we call a single observation of text a __document__. In this case, our documents are emails, but they could be tweets, patents, cheques, web pages, etc...\n",
        "\n",
        "- A collection of documents (ie an entire text dataset) is called a __corpus__. There are many publically available corpora online, if you ever want to build your own models\n",
        "\n",
        "- We are interesting in splitting the documents into useful, informative units called __tokens__. Tokens are often just words, but they don't have to be. For instance, the token `'t`, when present to the right of the word `can`, will completely change the meaning of a sentence. The process of converting raw text into tokens is called __tokenization__.\n",
        "\n",
        "<br>\n",
        "\n",
        "There are a handful of great python libraries designed specifically for processing text. The one we'll use today is called `nltk`, which stands for Natural Language Tool Kit. \n",
        "- The first thing we'll want to do is tokenize the documents in our corpus:"
      ]
    },
    {
      "cell_type": "code",
      "metadata": {
        "id": "lIAlPKNFu8KX",
        "colab": {
          "base_uri": "https://localhost:8080/"
        },
        "outputId": "c9d4fcdf-b4a9-4377-c43d-0f88fff69ca7"
      },
      "source": [
        "import nltk\n",
        "# Download the tokenizer\n",
        "nltk.download('punkt')\n",
        "\n",
        "# Create a new column in our DF that contains token lists instead of raw text\n",
        "data['tokens'] = data['message'].apply(nltk.word_tokenize)\n",
        "\n",
        "print(data['tokens'].head(5))"
      ],
      "execution_count": 27,
      "outputs": [
        {
          "output_type": "stream",
          "name": "stderr",
          "text": [
            "[nltk_data] Downloading package punkt to /root/nltk_data...\n",
            "[nltk_data]   Unzipping tokenizers/punkt.zip.\n"
          ]
        },
        {
          "output_type": "stream",
          "name": "stdout",
          "text": [
            "0    [Go, until, jurong, point, ,, crazy, .., Avail...\n",
            "1             [Ok, lar, ..., Joking, wif, u, oni, ...]\n",
            "2    [Free, entry, in, 2, a, wkly, comp, to, win, F...\n",
            "3    [U, dun, say, so, early, hor, ..., U, c, alrea...\n",
            "4    [Nah, I, do, n't, think, he, goes, to, usf, ,,...\n",
            "Name: tokens, dtype: object\n"
          ]
        }
      ]
    },
    {
      "cell_type": "markdown",
      "metadata": {
        "id": "Icbb2mkIJn2Y"
      },
      "source": [
        "Notice the 5th row of our printout: nltk's word tokenizer has automatically recognized that `n't` should be its own token. This would by very difficult to do by hand.\n",
        "\n",
        "- Another step we might want to take is to convert all our tokens into lowercase. This prevents a word at the beginning of a sentence from being treated as a separate token from other occurrences later in sentences."
      ]
    },
    {
      "cell_type": "code",
      "metadata": {
        "id": "8ThIIP9haNNN",
        "colab": {
          "base_uri": "https://localhost:8080/"
        },
        "outputId": "26ac5545-5ded-4fb1-bf22-76d81c57b207"
      },
      "source": [
        "##### Convert tokens into lowercase ####\n",
        "lowercase_tokens = []\n",
        "# Create a list of lists with what we want\n",
        "for row in data['tokens']:\n",
        "  lowercase_tokens.append([t.lower() for t in row])\n",
        "# add the new info to our df\n",
        "data['lowercase_tokens'] = lowercase_tokens\n",
        "\n",
        "print(data['lowercase_tokens'].head(5))"
      ],
      "execution_count": 28,
      "outputs": [
        {
          "output_type": "stream",
          "name": "stdout",
          "text": [
            "0    [go, until, jurong, point, ,, crazy, .., avail...\n",
            "1             [ok, lar, ..., joking, wif, u, oni, ...]\n",
            "2    [free, entry, in, 2, a, wkly, comp, to, win, f...\n",
            "3    [u, dun, say, so, early, hor, ..., u, c, alrea...\n",
            "4    [nah, i, do, n't, think, he, goes, to, usf, ,,...\n",
            "Name: lowercase_tokens, dtype: object\n"
          ]
        }
      ]
    },
    {
      "cell_type": "markdown",
      "metadata": {
        "id": "y8gbSCNWfFF4"
      },
      "source": [
        "Now all tokens are lowercase. We could have also done these last two steps in opposite order, converting raw strings to lowercase and then tokenizing.\n",
        "\n",
        "<br>\n",
        "\n",
        "- Another thing we might want to do is remove punctuation. Again, since some tokens may have punctuation marks attached, this might prevent otherwise identical words from being treated as identical. We can use the regex functions to help here. Instead of listing all forms of punctuation (some of which, like `.` or `?`, would require the escape character), we can be a bit more clever, and remove all punctuation and special characters at once.\n",
        "- Remember that `\\w` is used to denote any alphanumeric character (it also allows underscores) and `\\s` denotes whitespace"
      ]
    },
    {
      "cell_type": "code",
      "metadata": {
        "id": "6_oLg_YSf7cN",
        "colab": {
          "base_uri": "https://localhost:8080/"
        },
        "outputId": "92f54e16-653c-4431-a46d-d6fd509b5c03"
      },
      "source": [
        "##### Let's remove punctuation #####\n",
        "\n",
        "# Note we've been keeping different columns for different steps (not necessary)\n",
        "list(data)\n",
        "\n",
        "# Same process as before\n",
        "tokens_no_punct = []\n",
        "# Create a list of lists with what we want\n",
        "for row in data['lowercase_tokens']:\n",
        "  tokens_no_punct.append([re.sub('[^\\w\\s]','', t) for t in row])\n",
        "# add the new info to our df\n",
        "data['tokens_no_punct'] = tokens_no_punct\n",
        "\n",
        "print(data['tokens_no_punct'].head(5))\n"
      ],
      "execution_count": 29,
      "outputs": [
        {
          "output_type": "stream",
          "name": "stdout",
          "text": [
            "0    [go, until, jurong, point, , crazy, , availabl...\n",
            "1                   [ok, lar, , joking, wif, u, oni, ]\n",
            "2    [free, entry, in, 2, a, wkly, comp, to, win, f...\n",
            "3    [u, dun, say, so, early, hor, , u, c, already,...\n",
            "4    [nah, i, do, nt, think, he, goes, to, usf, , h...\n",
            "Name: tokens_no_punct, dtype: object\n"
          ]
        }
      ]
    },
    {
      "cell_type": "markdown",
      "metadata": {
        "id": "U0OQNE9gh01Y"
      },
      "source": [
        "The carat symbol `^` is used for negation, so the regex in the above process is read as: 'Remove all characters that are not alphanumeric or whitespace'. We do this for every token in the list, and for each token list in our DF.\n",
        "\n",
        "- Be careful when removing all special characters. Sometimes certain symbols can have important meaning, and you dont' want them removed. In that case, your search pattern will have to be a bit more refined.\n",
        "\n",
        "<br>\n",
        "\n",
        "<br>\n",
        "\n",
        "__Q: Can you think of an example where we might want to keep a certain special character?__ "
      ]
    },
    {
      "cell_type": "code",
      "metadata": {
        "id": "9XwxsULdi4ph"
      },
      "source": [
        "# Answer"
      ],
      "execution_count": 30,
      "outputs": []
    },
    {
      "cell_type": "markdown",
      "metadata": {
        "id": "YOA1iGL9kXSF"
      },
      "source": [
        "<br>\n",
        "\n",
        "<br>\n",
        "\n",
        "Another common step is to remove words that we know will be in almost every document. These are called __stopwords__, and because they are used so often, they won't have any predictive power in most models (there are some rare exceptions, but they do not apply here). To avoid adding unnecessary noise, we can remove such words. `nltk` provides a list of almost 200 such words:"
      ]
    },
    {
      "cell_type": "code",
      "metadata": {
        "id": "WO5ZYP97lIwI",
        "colab": {
          "base_uri": "https://localhost:8080/"
        },
        "outputId": "ed7bd117-a1d9-4d04-eb2c-2040ebc6d6a5"
      },
      "source": [
        "##### Time to remove Stopwords #####\n",
        "\n",
        "from nltk.corpus import stopwords\n",
        "nltk.download('stopwords')\n",
        "# print the top 75 most popular english words\n",
        "sw = stopwords.words('english')[:75]\n",
        "\n",
        "# I converted to np array for better printing\n",
        "print(np.array(sw).reshape((15,5)))"
      ],
      "execution_count": 31,
      "outputs": [
        {
          "output_type": "stream",
          "name": "stdout",
          "text": [
            "[['i' 'me' 'my' 'myself' 'we']\n",
            " ['our' 'ours' 'ourselves' 'you' \"you're\"]\n",
            " [\"you've\" \"you'll\" \"you'd\" 'your' 'yours']\n",
            " ['yourself' 'yourselves' 'he' 'him' 'his']\n",
            " ['himself' 'she' \"she's\" 'her' 'hers']\n",
            " ['herself' 'it' \"it's\" 'its' 'itself']\n",
            " ['they' 'them' 'their' 'theirs' 'themselves']\n",
            " ['what' 'which' 'who' 'whom' 'this']\n",
            " ['that' \"that'll\" 'these' 'those' 'am']\n",
            " ['is' 'are' 'was' 'were' 'be']\n",
            " ['been' 'being' 'have' 'has' 'had']\n",
            " ['having' 'do' 'does' 'did' 'doing']\n",
            " ['a' 'an' 'the' 'and' 'but']\n",
            " ['if' 'or' 'because' 'as' 'until']\n",
            " ['while' 'of' 'at' 'by' 'for']]\n"
          ]
        },
        {
          "output_type": "stream",
          "name": "stderr",
          "text": [
            "[nltk_data] Downloading package stopwords to /root/nltk_data...\n",
            "[nltk_data]   Unzipping corpora/stopwords.zip.\n"
          ]
        }
      ]
    },
    {
      "cell_type": "code",
      "metadata": {
        "id": "4JjINa6XmhWH",
        "colab": {
          "base_uri": "https://localhost:8080/"
        },
        "outputId": "1fcfb3aa-bae9-4447-a140-0b315a388060"
      },
      "source": [
        "# Now let's remove them\n",
        "tokens_no_sw = []\n",
        "for row in data['tokens_no_punct']:\n",
        "  tokens_no_sw.append([w for w in row if w not in sw])\n",
        "# Add column to df\n",
        "data['tokens_no_sw'] = tokens_no_sw\n",
        "\n",
        "# Print some examples\n",
        "print(data['tokens_no_sw'].tail(5))"
      ],
      "execution_count": 32,
      "outputs": [
        {
          "output_type": "stream",
          "name": "stdout",
          "text": [
            "5567    [2nd, time, tried, 2, contact, u, u, won, å750...\n",
            "5568      [will, ì_, b, going, to, esplanade, fr, home, ]\n",
            "5569    [pity, , , in, mood, , so, , any, other, sugge...\n",
            "5570    [guy, some, bitching, acted, like, d, interest...\n",
            "5571                             [rofl, , true, to, name]\n",
            "Name: tokens_no_sw, dtype: object\n"
          ]
        }
      ]
    },
    {
      "cell_type": "markdown",
      "metadata": {
        "id": "ONC95oC2nQGy"
      },
      "source": [
        "This looks good (but not great). Clearly there are other steps we could take (for instance, treating 'u' and 'you' as equal. But for the sake of time, we'll move on for now. In practice, it is very difficult to get a perfectly clean text dataset (things like typos/spelling errors, shorthand, slang, and redundancy (!?!?!!!) would still need to be dealt with).\n",
        "\n",
        "<br>\n",
        "\n",
        "<br>\n",
        "\n",
        "__Q: With this analysis, we've assumed that the basic unit of interest is an individual word (or something representing one). Can you think of a case where we might want to use tokens made of more than 1 word?__ "
      ]
    },
    {
      "cell_type": "markdown",
      "metadata": {
        "id": "-k0i71nPoVQR"
      },
      "source": [
        "<br>\n",
        "\n",
        "__Answer__: "
      ]
    },
    {
      "cell_type": "markdown",
      "metadata": {
        "id": "e8ZyRfGlonYK"
      },
      "source": [
        "<br>\n",
        "\n",
        "## 5. Stemming and Lemmatization\n",
        "\n",
        "In language processing, __stemming__ is the process of removing the suffixes of a word, thus reducing the word to its stem. This allows different tenses of the same word to be treated as the same token. Most stemmers are written as huge lists of handmapped words/tokens. Perhaps the most common of these is the __Porter Stemmer__. Again, `nltk` has us covered here:"
      ]
    },
    {
      "cell_type": "code",
      "metadata": {
        "id": "hcL-d-kItvDF",
        "colab": {
          "base_uri": "https://localhost:8080/"
        },
        "outputId": "25398213-28de-4e6e-9d50-b3b94780ad1c"
      },
      "source": [
        "#### Stemming tokens ####\n",
        "from nltk.stem.porter import *\n",
        "\n",
        "my_tokens = ['run','running', 'hike', 'hiking', 'apple', 'apples', 'knife', 'knives']\n",
        "stemmer = PorterStemmer()\n",
        "\n",
        "token_stems = [stemmer.stem(w) for w in my_tokens]\n",
        "\n",
        "print('Original tokens:\\n',my_tokens)\n",
        "print('Stemmed tokens',token_stems)"
      ],
      "execution_count": 33,
      "outputs": [
        {
          "output_type": "stream",
          "name": "stdout",
          "text": [
            "Original tokens:\n",
            " ['run', 'running', 'hike', 'hiking', 'apple', 'apples', 'knife', 'knives']\n",
            "Stemmed tokens ['run', 'run', 'hike', 'hike', 'appl', 'appl', 'knife', 'knive']\n"
          ]
        }
      ]
    },
    {
      "cell_type": "markdown",
      "metadata": {
        "id": "ziaTyQ1Hu4Ie"
      },
      "source": [
        "We can see that stemming helps in some cases, but it is not perfect. The Porter stemmer is not our only option:"
      ]
    },
    {
      "cell_type": "code",
      "metadata": {
        "id": "lFMQuGOlu_Xx",
        "colab": {
          "base_uri": "https://localhost:8080/"
        },
        "outputId": "c4190c56-8d31-4c08-fcd7-f35b19adf437"
      },
      "source": [
        "#### Let's try a SnowBall Stemmer ####\n",
        "from nltk.stem.snowball import SnowballStemmer\n",
        "\n",
        "stemmer = SnowballStemmer('english')\n",
        "token_stems = [stemmer.stem(w) for w in my_tokens]\n",
        "\n",
        "print('Original tokens:\\n',my_tokens)\n",
        "print('Stemmed tokens',token_stems)"
      ],
      "execution_count": 34,
      "outputs": [
        {
          "output_type": "stream",
          "name": "stdout",
          "text": [
            "Original tokens:\n",
            " ['run', 'running', 'hike', 'hiking', 'apple', 'apples', 'knife', 'knives']\n",
            "Stemmed tokens ['run', 'run', 'hike', 'hike', 'appl', 'appl', 'knife', 'knive']\n"
          ]
        }
      ]
    },
    {
      "cell_type": "markdown",
      "metadata": {
        "id": "T42BQtyLvYMX"
      },
      "source": [
        "We can see that most stemmers run into the same kind of problems with english irregularities. Nevertheless, stemming is effective for most regular word forms, so let's use it on our data:\n"
      ]
    },
    {
      "cell_type": "code",
      "metadata": {
        "id": "hObYI-i3vz19",
        "colab": {
          "base_uri": "https://localhost:8080/"
        },
        "outputId": "ab5311ad-220f-4782-96cb-5269a9b253da"
      },
      "source": [
        "### Stemming our dataset (Snowball Stemmer) ###\n",
        "stemmed_tokens = []\n",
        "for row in data['tokens_no_sw']:\n",
        "  stemmed_tokens.append([stemmer.stem(t) for t in row])\n",
        "\n",
        "data['stemmed_tokens'] = stemmed_tokens\n",
        "\n",
        "# Print results\n",
        "print('Before stemming:\\n', data['tokens_no_sw'].head(3))\n",
        "print('After stemming:\\n', data['stemmed_tokens'].head(3))"
      ],
      "execution_count": 35,
      "outputs": [
        {
          "output_type": "stream",
          "name": "stdout",
          "text": [
            "Before stemming:\n",
            " 0    [go, jurong, point, , crazy, , available, only...\n",
            "1                   [ok, lar, , joking, wif, u, oni, ]\n",
            "2    [free, entry, in, 2, wkly, comp, to, win, fa, ...\n",
            "Name: tokens_no_sw, dtype: object\n",
            "After stemming:\n",
            " 0    [go, jurong, point, , crazi, , avail, onli, in...\n",
            "1                     [ok, lar, , joke, wif, u, oni, ]\n",
            "2    [free, entri, in, 2, wkli, comp, to, win, fa, ...\n",
            "Name: stemmed_tokens, dtype: object\n"
          ]
        }
      ]
    },
    {
      "cell_type": "markdown",
      "metadata": {
        "id": "_AMpW_DjxAVH"
      },
      "source": [
        "The result is what we might expect. Some good, some bad. Is there a more thorough approach?\n",
        "\n",
        "<br>\n",
        "\n",
        "__Lemmatization__ converts a word/token to the base(dictionary) form of the word. Although it is more difficult to implement, it is also stronger than just stemming. `nltk` also contains built-in lemmatizers. One of the most popular ones is called the __WordNet__ lemmatizer."
      ]
    },
    {
      "cell_type": "code",
      "metadata": {
        "id": "xyPOE0zWxi-5",
        "colab": {
          "base_uri": "https://localhost:8080/"
        },
        "outputId": "c85754dd-0fd1-4e0d-8e6d-7d4856430a23"
      },
      "source": [
        "#### Lemmatizing Words ####\n",
        "from nltk.stem import WordNetLemmatizer\n",
        "nltk.download('omw-1.4')\n",
        "\n",
        "my_tokens = ['eat', 'ate', 'walk', 'walked', 'buy', 'bought', 'apple', 'apples', 'knife', 'knives']\n",
        "\n",
        "lemmatizer = WordNetLemmatizer()\n",
        "\n",
        "lem_tokens = [lemmatizer.lemmatize(t) for t in my_tokens]\n",
        "\n",
        "# Print results\n",
        "print('Before lemmatizing:\\n', my_tokens)\n",
        "print('After lemmatizing:\\n', lem_tokens)"
      ],
      "execution_count": 37,
      "outputs": [
        {
          "output_type": "stream",
          "name": "stderr",
          "text": [
            "[nltk_data] Downloading package omw-1.4 to /root/nltk_data...\n"
          ]
        },
        {
          "output_type": "stream",
          "name": "stdout",
          "text": [
            "Before lemmatizing:\n",
            " ['eat', 'ate', 'walk', 'walked', 'buy', 'bought', 'apple', 'apples', 'knife', 'knives']\n",
            "After lemmatizing:\n",
            " ['eat', 'ate', 'walk', 'walked', 'buy', 'bought', 'apple', 'apple', 'knife', 'knife']\n"
          ]
        }
      ]
    },
    {
      "cell_type": "markdown",
      "metadata": {
        "id": "2qF5nOMazBRU"
      },
      "source": [
        "We can see it still struggles with some aspects of the language (like plurals). But overall, it helps. Let's lemmatize our dataset:"
      ]
    },
    {
      "cell_type": "code",
      "metadata": {
        "id": "YiSHBlepzQev",
        "colab": {
          "base_uri": "https://localhost:8080/"
        },
        "outputId": "edd3aa03-8e85-400d-ac8f-5f27353a817a"
      },
      "source": [
        "#### Lemmatize the Dataset ####\n",
        "\n",
        "lem_tokens = []\n",
        "for row in data['tokens_no_sw']:\n",
        "  lem_tokens.append([lemmatizer.lemmatize(t) for t in row])\n",
        "\n",
        "data['lem_tokens'] = lem_tokens\n",
        "\n",
        "# Print results\n",
        "print(data['lem_tokens'].head(5))"
      ],
      "execution_count": 38,
      "outputs": [
        {
          "output_type": "stream",
          "name": "stdout",
          "text": [
            "0    [go, jurong, point, , crazy, , available, only...\n",
            "1                   [ok, lar, , joking, wif, u, oni, ]\n",
            "2    [free, entry, in, 2, wkly, comp, to, win, fa, ...\n",
            "3    [u, dun, say, so, early, hor, , u, c, already,...\n",
            "4    [nah, nt, think, go, to, usf, , life, around, ...\n",
            "Name: lem_tokens, dtype: object\n"
          ]
        }
      ]
    },
    {
      "cell_type": "markdown",
      "metadata": {
        "id": "JRGjw9upzxWw"
      },
      "source": [
        "This is much better than what we had in the beginning. Note that we could also lemmatize, then stem, which would work better than either method individually.Before moving on to vectorization, I'll just do a bit more tidying. Notice that we have some tokens represented only by empty strings. I'll remove those. I'll also drop some of our intermediate columns. "
      ]
    },
    {
      "cell_type": "code",
      "metadata": {
        "id": "rmAdcSFD2r6z",
        "colab": {
          "base_uri": "https://localhost:8080/"
        },
        "outputId": "df2c3b8c-a51d-4bcb-df58-c79e60e214f1"
      },
      "source": [
        "# Drop some intermediate columns\n",
        "list(data)\n",
        "data = data.drop(['tokens','lowercase_tokens', 'tokens_no_punct','tokens_no_sw','stemmed_tokens'], axis = 1)\n",
        "\n",
        "print('After removal:\\n', list(data))\n",
        "\n",
        "# Remove blank tokens\n",
        "no_blanks = []\n",
        "for row in data['lem_tokens']:\n",
        "  no_blanks.append([t for t in row if t != ''])\n",
        "data['tokens'] = no_blanks\n",
        "\n",
        "print(data['tokens'].head(5))\n",
        "\n",
        "# drop the last intermediate column\n",
        "data = data.drop(['lem_tokens'], axis = 1)\n",
        "\n",
        "# Now we should have only the label, original text, and cleaned token lists\n",
        "print('Current Columns:\\n',list(data))"
      ],
      "execution_count": 39,
      "outputs": [
        {
          "output_type": "stream",
          "name": "stdout",
          "text": [
            "After removal:\n",
            " ['label', 'message', 'lem_tokens']\n",
            "0    [go, jurong, point, crazy, available, only, in...\n",
            "1                       [ok, lar, joking, wif, u, oni]\n",
            "2    [free, entry, in, 2, wkly, comp, to, win, fa, ...\n",
            "3    [u, dun, say, so, early, hor, u, c, already, t...\n",
            "4    [nah, nt, think, go, to, usf, life, around, he...\n",
            "Name: tokens, dtype: object\n",
            "Current Columns:\n",
            " ['label', 'message', 'tokens']\n"
          ]
        }
      ]
    },
    {
      "cell_type": "markdown",
      "metadata": {
        "id": "XFUdMO0x6RkM"
      },
      "source": [
        "Ok great. Now we have a much cleaner dataset, which we can use to run a model. But before we do this, we need to think about how to represent text as features....\n",
        "\n",
        "<br>\n",
        "\n",
        "<br>"
      ]
    },
    {
      "cell_type": "markdown",
      "metadata": {
        "id": "0GePUkE3oE8y"
      },
      "source": [
        "## 6. Vectorizing Token Collections\n",
        "\n",
        "<br>\n",
        "\n",
        "One of the key assumptions in NLP is called the __Distributional Hypothesis__. It says (roughly) that words used in the same context tend to have similar meanings. Put differently, 'A word is characterized by the company it keeps' (JR Firth, 1950). \n",
        "- What this means for us is that similar documents will contain similar words/tokens.\n",
        "- But how to measure this similarity?\n",
        "\n",
        "<br>\n",
        "\n",
        "__Text Vectorization__ is the process of converting text features into a numerical representation.\n",
        "\n",
        "<br>\n",
        "\n",
        "<br>\n",
        "\n",
        "__Q: What are some ways we can represent text as numbers?__ "
      ]
    },
    {
      "cell_type": "markdown",
      "metadata": {
        "id": "vi6gOxouHh_c"
      },
      "source": [
        "<br>\n",
        "\n",
        "There are many common ways of turning our tokens into a matrix. The most popular is through the use of a __term-document matrix__, or __token-document matrix__\n",
        "- Suppose I have two documents(movie reviews):\n",
        "\n",
        "    Doc1: _'No surprises and very few laughs'_\n",
        "\n",
        "    Doc2: _'Very powerful. I was surprised.'_\n",
        "\n",
        "After preprocesssing like we did above, the term document matrix might look like the following:\n",
        "$$\n",
        "\\begin{array}{ c c c }\n",
        " Token & Doc 1 & Doc 2 \\\\ \n",
        " \\hline\n",
        " no & 1 & 0 \\\\  \n",
        " suprise & 1 & 1 \\\\\n",
        " very & 1 & 1 \\\\\n",
        " few & 1 & 0 \\\\\n",
        " laugh & 1 & 0 \\\\\n",
        " power & 0 & 1   \n",
        "\\end{array}$$\n",
        "This matrix needn't contain the presence/absence of a word. We can also populate it with word counts, or with custom measures, such as __Term-Frequency Inverse Document-Frequency (TF-IDF)__. This is equal to the product of term frequency (i.e. the number of times token t appears in document d) multiplied by the inverse of document frequency (the proportion of all documents containing token t). This measure controls for the fact that one word used many times in a small number of documents could mistakenly upweight the probabilities associated with certain classes under the BOW model.\n",
        "\n",
        "We don't have to vectorize by hand though. `Scikit-learn` has built in methods to do this.\n",
        "- Note that the following methods are also designed to do some preprocessing and tokenizing, so the default input is raw strings. Since we've already done these steps, I will use a dummy function to override these components. The output will be our term-document matrix as a Scipy sparse matrix, which we can convert to a numpy array.\n",
        "- I will then split the data into training and testing sets.\n",
        "\n"
      ]
    },
    {
      "cell_type": "code",
      "metadata": {
        "id": "VsUKbiXis-92",
        "colab": {
          "base_uri": "https://localhost:8080/"
        },
        "outputId": "f201683a-e268-42ff-f5d3-fd6399c4288d"
      },
      "source": [
        "from sklearn.feature_extraction.text import TfidfTransformer # used in next cell\n",
        "from sklearn.feature_extraction.text import CountVectorizer\n",
        "from sklearn.model_selection import train_test_split\n",
        "\n",
        "# Separate labels from features, converting to numpy arrays\n",
        "X, y = data['tokens'].to_numpy(), data['label'].to_numpy()\n",
        "\n",
        "\n",
        "def override_fcn(doc):\n",
        "  # We expect a list of tokens as input\n",
        "  return doc\n",
        "\n",
        "# Count Vectorizer\n",
        "count_vec = CountVectorizer(\n",
        "    analyzer='word',\n",
        "    tokenizer= override_fcn,\n",
        "    preprocessor= override_fcn,\n",
        "    token_pattern= None,\n",
        "    max_features = 1000)\n",
        "\n",
        "# Remember this output is a Scipy Sparse Array\n",
        "counts = count_vec.fit_transform(X)\n",
        "print(counts.toarray())\n",
        "\n",
        "# Print the names of each of the features (1000 total))\n",
        "print(count_vec.get_feature_names_out())\n",
        "# Print this mapping as dictionary\n",
        "print(count_vec.vocabulary_)\n",
        "\n",
        "## Which row represents 'great'\n",
        "print('\\nGreat is located at row: ',count_vec.vocabulary_['great'])"
      ],
      "execution_count": 40,
      "outputs": [
        {
          "output_type": "stream",
          "name": "stdout",
          "text": [
            "[[0 0 0 ... 0 0 0]\n",
            " [0 0 0 ... 0 0 0]\n",
            " [0 0 0 ... 0 0 0]\n",
            " ...\n",
            " [0 0 0 ... 0 0 0]\n",
            " [0 0 0 ... 0 0 0]\n",
            " [0 0 0 ... 0 0 0]]\n",
            "['0800' '08000839402' '08000930705' '1' '10' '100' '1000' '10p' '10pmin'\n",
            " '12' '12hrs' '150' '150p' '150pmsg' '150ppm' '16' '18' '1st' '2' '2003'\n",
            " '2nd' '3' '4' '5' '500' '6' '7' '750' '8' '800' '8007' '86688' '87066'\n",
            " '9' 'abiola' 'able' 'about' 'abt' 'account' 'across' 'actually' 'address'\n",
            " 'admirer' 'aft' 'after' 'afternoon' 'again' 'against' 'age' 'ago' 'ah'\n",
            " 'aight' 'al' 'all' 'almost' 'alone' 'already' 'alright' 'also' 'always'\n",
            " 'amp' 'an' 'angry' 'another' 'answer' 'any' 'anyone' 'anything' 'anytime'\n",
            " 'anyway' 'apply' 'ard' 'area' 'around' 'as' 'asap' 'ask' 'askd' 'asked'\n",
            " 'asking' 'attempt' 'auction' 'available' 'await' 'award' 'awarded' 'away'\n",
            " 'awesome' 'b' 'b4' 'babe' 'baby' 'back' 'bad' 'bag' 'bank' 'bath' 'bathe'\n",
            " 'bcoz' 'bday' 'beautiful' 'bed' 'before' 'believe' 'best' 'better'\n",
            " 'between' 'big' 'bill' 'birthday' 'bit' 'blue' 'bonus' 'book' 'booked'\n",
            " 'bored' 'both' 'bout' 'box' 'boy' 'boytoy' 'break' 'bring' 'brother'\n",
            " 'bslvyl' 'bt' 'bus' 'busy' 'buy' 'c' 'ca' 'call' 'called' 'caller'\n",
            " 'callertune' 'calling' 'camcorder' 'came' 'camera' 'can' 'cant' 'car'\n",
            " 'card' 'care' 'carlos' 'case' 'cash' 'catch' 'cause' 'cd' 'chance'\n",
            " 'change' 'charge' 'charged' 'chat' 'cheap' 'check' 'checking' 'cheer'\n",
            " 'chennai' 'chikku' 'child' 'choose' 'christmas' 'claim' 'class' 'clean'\n",
            " 'close' 'club' 'co' 'code' 'collect' 'collection' 'college' 'colour'\n",
            " 'come' 'comin' 'coming' 'comp' 'company' 'complimentary' 'computer'\n",
            " 'confirm' 'congrats' 'congratulation' 'contact' 'content' 'cool' 'copy'\n",
            " 'correct' 'cost' 'could' 'couple' 'course' 'cover' 'coz' 'crave' 'crazy'\n",
            " 'credit' 'cum' 'currently' 'customer' 'cut' 'd' 'da' 'dad' 'darlin'\n",
            " 'darren' 'dat' 'date' 'dating' 'day' 'de' 'dead' 'deal' 'dear' 'decide'\n",
            " 'decided' 'decimal' 'deep' 'del' 'delivery' 'den' 'detail' 'didnt' 'die'\n",
            " 'different' 'difficult' 'dinner' 'direct' 'dis' 'discount' 'disturb'\n",
            " 'dnt' 'doctor' 'doesnt' 'dogging' 'doin' 'don' 'done' 'dont' 'door'\n",
            " 'double' 'down' 'download' 'draw' 'dream' 'drink' 'drive' 'driving'\n",
            " 'drop' 'drug' 'dude' 'dun' 'dunno' 'e' 'each' 'earlier' 'early' 'easy'\n",
            " 'eat' 'eg' 'eh' 'either' 'else' 'em' 'email' 'empty' 'end' 'ending'\n",
            " 'energy' 'england' 'enjoy' 'enough' 'enter' 'entered' 'entry' 'etc' 'eve'\n",
            " 'even' 'evening' 'ever' 'every' 'everyone' 'everything' 'ex' 'exam'\n",
            " 'excuse' 'expires' 'extra' 'eye' 'f' 'face' 'fact' 'family' 'fancy'\n",
            " 'fantastic' 'fantasy' 'far' 'fast' 'father' 'feel' 'feeling' 'felt' 'few'\n",
            " 'figure' 'film' 'final' 'finally' 'find' 'fine' 'finish' 'finished'\n",
            " 'first' 'fone' 'food' 'forget' 'forgot' 'found' 'fr' 'free' 'freemsg'\n",
            " 'fri' 'friday' 'friend' 'friendship' 'frm' 'frnd' 'frnds' 'from' 'fuck'\n",
            " 'fucking' 'full' 'fun' 'g' 'gal' 'game' 'gap' 'gas' 'gave' 'gd' 'get'\n",
            " 'gettin' 'getting' 'gift' 'girl' 'give' 'glad' 'go' 'god' 'goin' 'going'\n",
            " 'gon' 'gone' 'good' 'goodmorning' 'got' 'gr8' 'great' 'grin' 'gt'\n",
            " 'guaranteed' 'gud' 'guess' 'guy' 'gym' 'ha' 'haf' 'haha' 'hair' 'half'\n",
            " 'hand' 'happen' 'happened' 'happiness' 'happy' 'hard' 'hav' 'havent'\n",
            " 'head' 'hear' 'heard' 'heart' 'hee' 'hello' 'help' 'here' 'hey' 'hi'\n",
            " 'hit' 'hmm' 'hmmm' 'hmv' 'ho' 'hold' 'holiday' 'home' 'hope' 'hoping'\n",
            " 'hospital' 'hot' 'hour' 'house' 'how' 'hows' 'hr' 'http' 'huh' 'hungry'\n",
            " 'hurt' 'hw' 'id' 'idea' 'identifier' 'il' 'ill' 'im' 'immediately'\n",
            " 'important' 'in' 'india' 'info' 'information' 'into' 'invited' 'ipod'\n",
            " 'jay' 'job' 'john' 'join' 'joke' 'joy' 'jus' 'just' 'juz' 'k' 'kate'\n",
            " 'keep' 'kick' 'kid' 'kind' 'kiss' 'knew' 'know' 'knw' 'lady' 'land'\n",
            " 'landline' 'laptop' 'lar' 'last' 'late' 'later' 'latest' 'laugh' 'ldn'\n",
            " 'le' 'leaf' 'least' 'leave' 'leaving' 'left' 'leh' 'lei' 'lesson' 'let'\n",
            " 'liao' 'life' 'light' 'like' 'line' 'link' 'listen' 'little' 'live' 'll'\n",
            " 'load' 'loan' 'log' 'lol' 'long' 'look' 'looking' 'lor' 'lose' 'lost'\n",
            " 'lot' 'lovable' 'love' 'loved' 'lovely' 'lover' 'loving' 'lt' 'ltd'\n",
            " 'luck' 'lucky' 'lunch' 'luv' 'm' 'made' 'mah' 'mail' 'make' 'making'\n",
            " 'man' 'many' 'march' 'match' 'mate' 'may' 'mayb' 'maybe' 'mean' 'meant'\n",
            " 'med' 'meet' 'meeting' 'meh' 'member' 'men' 'merry' 'message' 'met'\n",
            " 'might' 'min' 'mind' 'mine' 'minute' 'miss' 'missed' 'missing' 'mistake'\n",
            " 'mm' 'mob' 'mobile' 'mobileupd8' 'mom' 'moment' 'monday' 'money' 'month'\n",
            " 'moral' 'more' 'morning' 'most' 'motorola' 'move' 'movie' 'mr' 'mrng'\n",
            " 'mrt' 'msg' 'mu' 'much' 'mum' 'music' 'must' 'muz' 'n' 'na' 'nah' 'name'\n",
            " 'national' 'near' 'need' 'network' 'neva' 'never' 'new' 'news' 'next'\n",
            " 'ni8' 'nice' 'night' 'nite' 'no' 'no1' 'nobody' 'noe' 'nokia' 'none'\n",
            " 'noon' 'nope' 'normal' 'not' 'nothing' 'now' 'nt' 'ntt' 'number' 'nyt'\n",
            " 'o' 'off' 'offer' 'office' 'oh' 'ok' 'okay' 'okie' 'old' 'on' 'once'\n",
            " 'one' 'online' 'only' 'oops' 'open' 'operator' 'opinion' 'opt' 'optout'\n",
            " 'orange' 'orchard' 'order' 'oredi' 'oso' 'other' 'others' 'otherwise'\n",
            " 'out' 'outside' 'over' 'own' 'p' 'pa' 'page' 'pain' 'paper' 'parent'\n",
            " 'park' 'part' 'party' 'pas' 'password' 'pay' 'people' 'per' 'person'\n",
            " 'pete' 'phone' 'photo' 'pic' 'pick' 'picking' 'place' 'plan' 'play'\n",
            " 'player' 'please' 'pls' 'plus' 'plz' 'pm' 'po' 'pobox' 'point' 'police'\n",
            " 'poly' 'poor' 'possible' 'post' 'pound' 'press' 'pretty' 'price'\n",
            " 'princess' 'private' 'prize' 'prob' 'probably' 'problem' 'project'\n",
            " 'promise' 'pub' 'put' 'question' 'quite' 'quiz' 'r' 'rate' 're' 'reach'\n",
            " 'reached' 'read' 'reading' 'ready' 'real' 'really' 'reason' 'receive'\n",
            " 'red' 'remember' 'remove' 'rent' 'rental' 'reply' 'representative'\n",
            " 'request' 'rest' 'return' 'reveal' 'reward' 'right' 'ring' 'ringtone'\n",
            " 'rite' 'road' 'rock' 'room' 'rply' 'run' 's' 'sad' 'sae' 'safe' 'said'\n",
            " 'same' 'sat' 'saturday' 'savamob' 'save' 'saw' 'say' 'saying' 'sch'\n",
            " 'school' 'sea' 'search' 'second' 'secret' 'see' 'seeing' 'seen'\n",
            " 'selected' 'sell' 'semester' 'send' 'sending' 'sent' 'service' 'set'\n",
            " 'sex' 'sexy' 'shall' 'shes' 'shit' 'shop' 'shopping' 'short' 'should'\n",
            " 'show' 'shower' 'si' 'side' 'sim' 'simple' 'since' 'single' 'sir'\n",
            " 'sister' 'situation' 'sleep' 'sleeping' 'slow' 'slowly' 'sm' 'small'\n",
            " 'smile' 'smiling' 'smoke' 'smth' 'snow' 'so' 'some' 'somebody' 'someone'\n",
            " 'something' 'somewhere' 'song' 'sony' 'soon' 'sorry' 'sort' 'sound'\n",
            " 'speak' 'special' 'spend' 'st' 'start' 'started' 'statement' 'stay' 'std'\n",
            " 'still' 'stop' 'store' 'story' 'study' 'stuff' 'stupid' 'sub' 'summer'\n",
            " 'sun' 'sunday' 'support' 'supposed' 'sure' 'surprise' 'sweet' 'swing' 't'\n",
            " 'ta' 'take' 'taking' 'talk' 'talking' 'tc' 'teach' 'tel' 'tell' 'telling'\n",
            " 'ten' 'term' 'test' 'text' 'th' 'than' 'thank' 'thanks' 'thanx' 'thats'\n",
            " 'then' 'there' 'thing' 'think' 'thinking' 'thk' 'tho' 'though' 'thought'\n",
            " 'through' 'ticket' 'til' 'till' 'time' 'tired' 'tmr' 'to' 'today'\n",
            " 'together' 'told' 'tomo' 'tomorrow' 'tone' 'tonight' 'too' 'took' 'top'\n",
            " 'tot' 'touch' 'town' 'train' 'treat' 'tried' 'trip' 'true' 'truth' 'try'\n",
            " 'trying' 'turn' 'tv' 'two' 'txt' 'txting' 'txts' 'type' 'u' 'ugh' 'uk'\n",
            " 'uncle' 'understand' 'unless' 'unlimited' 'unredeemed' 'unsubscribe' 'up'\n",
            " 'update' 'ur' 'urgent' 'use' 'used' 'usf' 'using' 'usual' 'v' 'valentine'\n",
            " 'valid' 'valued' 've' 'very' 'via' 'video' 'visit' 'voice' 'voucher' 'w'\n",
            " 'wait' 'waiting' 'wake' 'walk' 'wan' 'wana' 'want' 'wanted' 'wap' 'warm'\n",
            " 'wat' 'watch' 'watching' 'water' 'way' 'week' 'weekend' 'weekly'\n",
            " 'welcome' 'well' 'wen' 'went' 'whatever' 'whats' 'when' 'whenever'\n",
            " 'where' 'whole' 'why' 'wid' 'wif' 'wife' 'wil' 'will' 'win' 'wine'\n",
            " 'winner' 'wish' 'wishing' 'wit' 'with' 'within' 'without' 'wk' 'wkly'\n",
            " 'wo' 'woke' 'won' 'wonder' 'wonderful' 'wondering' 'wont' 'word' 'work'\n",
            " 'working' 'world' 'worried' 'worry' 'worth' 'wot' 'would' 'wow' 'write'\n",
            " 'wrong' 'x' 'xmas' 'xx' 'xxx' 'y' 'ya' 'yar' 'yeah' 'year' 'yep' 'yes'\n",
            " 'yesterday' 'yet' 'yo' 'yr' 'yup' 'å100' 'å1000' 'å150' 'å200' 'å2000'\n",
            " 'å250' 'å350' 'å500' 'å5000' 'å800' 'ì_' 'ìï' 'û_']\n",
            "{'go': 348, 'point': 656, 'crazy': 197, 'available': 82, 'only': 605, 'in': 419, 'n': 559, 'great': 358, 'world': 962, 'e': 255, 'there': 833, 'got': 356, 'wat': 917, 'ok': 597, 'lar': 449, 'wif': 937, 'u': 877, 'free': 320, 'entry': 276, '2': 18, 'wkly': 951, 'comp': 178, 'to': 848, 'win': 941, 'final': 307, 'may': 510, 'text': 825, 'receive': 690, 'question': 676, 'std': 793, 'txt': 873, 'rate': 680, 't': 811, 'c': 129, 's': 712, 'apply': 70, 'dun': 253, 'say': 723, 'so': 773, 'early': 258, 'already': 56, 'then': 832, 'nah': 561, 'nt': 588, 'think': 835, 'usf': 892, 'life': 467, 'around': 73, 'here': 386, 'though': 839, 'freemsg': 321, 'hey': 387, '3': 21, 'week': 922, 'now': 587, 'no': 576, 'word': 959, 'back': 92, 'd': 203, 'like': 469, 'some': 774, 'fun': 333, 'up': 886, 'still': 794, 'xxx': 974, 'send': 737, 'å150': 989, 'even': 279, 'brother': 123, 'not': 585, 'speak': 785, 'with': 947, 'treat': 863, 'per': 637, 'request': 698, 'set': 741, 'callertune': 134, 'all': 53, 'caller': 133, 'press': 663, '9': 33, 'copy': 188, 'friend': 324, 'winner': 943, 'valued': 898, 'network': 566, 'customer': 201, 'selected': 734, 'prize': 668, 'reward': 702, 'claim': 164, 'call': 131, 'code': 170, 'valid': 897, '12': 9, 'hour': 401, 'mobile': 535, 'month': 541, 'more': 543, 'r': 679, 'update': 887, 'latest': 453, 'colour': 174, 'camera': 138, 'co': 169, 'on': 601, 'm': 499, 'gon': 352, 'na': 560, 'home': 396, 'soon': 781, 'want': 913, 'talk': 815, 'about': 36, 'stuff': 799, 'tonight': 855, 'k': 435, 've': 899, 'enough': 273, 'today': 849, 'chance': 150, 'cash': 146, 'from': 329, '100': 5, 'pound': 662, 'cost': 190, '16': 15, 'reply': 696, '4': 22, 'info': 421, 'urgent': 889, 'won': 954, '1': 3, 'pobox': 655, 'right': 703, 'thank': 828, 'promise': 673, 'wont': 958, 'take': 813, 'help': 385, 'will': 940, 'wonderful': 956, 'time': 845, 'date': 209, 'sunday': 804, 'use': 890, 'credit': 198, 'wap': 915, 'link': 471, 'next': 571, 'message': 522, 'http': 406, 'oh': 596, 'watching': 919, 'eh': 262, 'remember': 692, 'how': 403, 'name': 562, 'yes': 981, 'v': 895, 'make': 503, 'fine': 310, 'way': 921, 'feel': 301, 'b': 88, 'england': 271, 'dont': 240, 'miss': 529, 'news': 570, 'ur': 888, 'national': 563, 'eg': 261, 'try': 868, 'going': 351, 'ha': 366, 'ì_': 997, 'pay': 635, 'first': 313, 'when': 931, 'da': 204, 'comin': 176, 'aft': 43, 'finish': 311, 'lunch': 497, 'down': 243, 'lor': 483, 'ard': 71, 'smth': 771, 'alright': 57, 'can': 139, 'meet': 516, 'just': 433, 'eat': 260, 'really': 688, 'hungry': 408, 'tho': 838, 'getting': 343, 'worried': 963, 'know': 443, 'turn': 870, 'lol': 479, 'always': 59, 'catch': 147, 'bus': 126, 'mom': 537, 'left': 461, 'over': 622, 'dinner': 228, 'love': 488, 'amp': 60, 're': 681, 'car': 141, 'll': 475, 'let': 465, 'room': 709, 'work': 960, 'wait': 907, 'sure': 807, 'why': 935, 'x': 971, 'live': 474, 'yeah': 978, 'out': 620, 'child': 161, 'till': 844, 'wo': 952, 'too': 856, 'cheer': 158, 'tell': 820, 'anything': 67, 'thanks': 829, 'ringtone': 705, 'uk': 879, 'charged': 153, 'please': 649, 'confirm': 182, 'yup': 986, 'look': 481, 'msg': 552, 'again': 46, '2nd': 20, 'lesson': 464, 'oops': 606, 'done': 239, 'see': 731, 'decide': 216, 'hello': 384, 'saturday': 719, 'decided': 217, 'tomo': 852, 'trying': 869, 'pls': 650, 'wanted': 914, 'weekend': 923, 'abiola': 34, 'forget': 316, 'need': 565, 'crave': 196, 'most': 545, 'sweet': 809, 'tried': 864, 'sm': 766, 'nokia': 580, 'camcorder': 136, '08000930705': 2, 'delivery': 221, 'tomorrow': 853, 'seeing': 732, 'hope': 397, 'man': 505, 'well': 926, 'lt': 493, 'gt': 360, 'missed': 530, 'get': 341, 'ca': 130, 'could': 191, 'maybe': 512, 'ask': 76, 'bit': 110, 'hospital': 399, 'telling': 821, 'saw': 722, 'class': 165, 'run': 711, 'half': 370, 'almost': 54, 'whole': 934, 'second': 729, 'morning': 544, 'place': 645, 'wow': 968, 'never': 568, 'thought': 840, 'since': 757, 'best': 104, 'happy': 375, 'sorry': 782, 'give': 346, 'new': 569, 'red': 691, 'play': 647, 'correct': 189, 'end': 268, 'yesterday': 982, 'find': 309, 'congrats': 183, 'year': 979, 'special': 786, 'pas': 633, 'etc': 277, 'later': 452, 'meeting': 517, 'where': 933, 'reached': 683, 'pick': 643, 'move': 547, 'pain': 627, 'good': 354, 'joke': 430, 'girl': 345, 'situation': 761, 'part': 631, 'checking': 157, 'took': 857, 'come': 175, 'double': 242, 'check': 156, 'hair': 369, 'said': 716, 'cut': 202, 'short': 749, 'nice': 573, 'mob': 534, 'awarded': 85, 'bonus': 112, 'song': 779, 'day': 211, 'frnds': 328, 'rply': 710, 'complimentary': 180, 'trip': 865, 'å1000': 988, 'dis': 230, '10': 4, 'hear': 380, 'lucky': 496, 'save': 721, 'money': 540, 'hee': 383, 'finished': 312, 'hi': 388, 'babe': 90, 'im': 416, 'wan': 911, 'something': 777, 'xx': 973, 'waiting': 908, 'once': 602, 'thats': 831, 'cool': 187, 'people': 636, 'very': 900, 'much': 554, 'pa': 625, 'after': 44, 'same': 717, 'looking': 482, 'job': 427, 'ta': 812, 'ah': 50, 'stop': 795, 'real': 687, 'yo': 984, 'ticket': 842, 'one': 603, 'used': 891, 'started': 790, 'came': 137, 'bed': 101, 'il': 414, 'download': 244, 'wen': 927, 'close': 167, 'another': 63, 'night': 574, 'late': 451, 'afternoon': 45, 'mean': 513, 'any': 65, 'y': 975, 'smile': 768, 'hurt': 409, 'someone': 776, 'smiling': 769, 'service': 740, 'representative': 697, '0800': 0, 'between': 106, 'guaranteed': 361, 'å5000': 995, 'havent': 378, 'buy': 128, 'show': 751, 'password': 634, 'movie': 548, 'abt': 37, 'load': 476, 'loan': 477, 'wk': 950, 'forgot': 317, 'shower': 752, 'cause': 148, 'prob': 669, 'nothing': 586, 'else': 264, 'okay': 598, 'price': 665, 'long': 480, 'gone': 353, 'driving': 249, 'test': 824, 'yet': 983, 'guess': 363, 'gave': 339, 'men': 520, 'search': 728, 'page': 626, 'lot': 486, 'dear': 215, 'wish': 944, 'birthday': 109, 'making': 504, 'aight': 51, 'hit': 389, 'would': 967, 'address': 41, 'computer': 181, 'old': 600, 'better': 105, 'worry': 964, 'busy': 127, 'thing': 834, 'mah': 501, 'contact': 185, 'last': 450, 'draw': 245, '12hrs': 10, '150ppm': 14, 'anyway': 69, 'juz': 434, 'haha': 368, 'happened': 373, 'entered': 275, 'bday': 99, 'felt': 303, 'askd': 77, 'invited': 424, 'went': 928, 'holiday': 395, 'operator': 608, '18': 16, 'must': 557, 'friday': 323, 'hmm': 390, 'uncle': 880, 'school': 726, 'food': 315, 'private': 667, 'account': 38, 'statement': 791, 'unredeemed': 884, 'identifier': 413, 'expires': 288, 'å2000': 991, 'landline': 447, 'number': 590, 'ending': 269, 'award': 84, 'match': 508, 'mu': 553, 'ìï': 998, 'sent': 739, 'sending': 738, 'should': 750, 'del': 220, 'answer': 64, 'quiz': 678, 'top': 858, 'sony': 780, 'player': 648, 'dogging': 236, 'direct': 229, 'join': 429, 'bt': 125, 'txting': 874, '150p': 12, 'haf': 367, 'chat': 154, 'age': 48, 'yr': 985, 'type': 876, 'sir': 759, 'mail': 502, 'tired': 846, 'little': 473, 'lovable': 487, 'person': 638, 'coz': 195, 'heart': 382, 'gud': 362, 'ni8': 572, 'open': 607, 'ya': 976, 'whats': 930, 'taking': 814, 'sexy': 743, 'luv': 498, 'ltd': 494, 'hard': 376, 'wine': 942, 'thk': 837, 'dream': 246, 'without': 949, 'joy': 431, 'tv': 871, 'ill': 415, 'leaving': 460, 'house': 402, 'boy': 119, 'missing': 531, 'keep': 437, 'safe': 715, 'everyone': 283, 'parent': 629, 'hand': 371, 'each': 256, 'spend': 787, 'frnd': 327, 'order': 614, 'content': 186, 'wit': 946, 'fancy': 295, 'also': 58, 'bank': 95, 'hmmm': 391, 'muz': 558, 'liao': 466, 'coming': 177, 'cant': 140, 'believe': 103, 'mr': 549, 'bath': 96, 'carlos': 144, 'til': 843, 'smoke': 770, 'worth': 965, 'doesnt': 235, 'log': 478, 'offer': 594, 'gr8': 357, 'guy': 364, 'working': 961, 'boytoy': 120, 'awesome': 87, 'minute': 528, 'xmas': 972, 'jus': 432, 'bathe': 97, 'si': 753, 'using': 893, 'touch': 860, 'deal': 214, 'finally': 308, 'course': 193, 'stay': 792, 'able': 35, 'every': 282, 'mrng': 550, 'hav': 377, 'story': 797, 'dead': 213, 'tmr': 847, 'orchard': 613, 'mrt': 551, 'kate': 436, 'evening': 280, 'found': 318, 'darlin': 206, 'college': 173, 'decimal': 218, 'id': 411, 'goodmorning': 355, 'sleeping': 763, 'dat': 208, 'oso': 616, 'oredi': 615, 'before': 102, 'bill': 108, 'both': 116, 'big': 107, 'ready': 686, 'break': 121, 'semester': 736, 'study': 798, 'noe': 579, 'leh': 462, 'sound': 784, 'few': 304, 'easy': 259, 'exam': 286, 'march': 507, 'o': 592, 'called': 132, 'important': 418, 'shop': 747, 'happen': 372, 'nite': 575, '500': 24, 'collect': 171, 'off': 593, 'start': 789, 'g': 334, 'company': 179, 'po': 654, 'than': 827, 'bcoz': 98, 'teach': 818, 'walk': 910, 'road': 707, 'side': 754, '10p': 7, 'wil': 939, 'reach': 682, 'kick': 438, 'secret': 730, 'admirer': 42, 'reveal': 701, 'laptop': 448, 'case': 145, 'tel': 819, 'meant': 514, 'told': 851, 'into': 423, 'face': 292, 'watch': 918, 'fr': 319, 'thanx': 830, 'everything': 284, 'asked': 78, 'didnt': 224, 'wake': 909, 'sleep': 762, 'congratulation': 184, 'cd': 149, 'voucher': 905, 'music': 556, '87066': 32, 'hold': 394, 'angry': 62, 'wid': 936, 'dnt': 233, 'true': 866, 'deep': 219, 'care': 143, 'other': 617, 'lover': 491, 'video': 902, '750': 27, 'anytime': 68, 'min': 525, 'unlimited': 883, 'shopping': 748, 'own': 623, 'disturb': 232, 'ring': 704, 'hot': 400, 'unsubscribe': 885, 'wana': 912, 'plan': 646, 'choose': 162, 'club': 168, 'single': 758, 'charge': 152, 'leaf': 457, 'blue': 111, 'hmv': 392, '86688': 31, 'might': 524, 'full': 332, 'swing': 810, 'far': 298, 'okie': 599, 'usual': 894, 'baby': 91, 'fone': 314, 'shall': 744, 'stupid': 800, 'phone': 640, 'sim': 755, 'card': 142, 'unless': 882, 'die': 225, 'plz': 652, 'bslvyl': 124, 'somebody': 775, 'shit': 746, 'somewhere': 778, 'book': 113, 'friendship': 325, 'game': 336, 'tone': 854, 'sister': 760, 'å200': 990, 'weekly': 924, 'box': 118, 'normal': 584, 'rest': 699, 'wot': 966, 'lost': 485, 'made': 500, 'dunno': 254, 'dude': 252, 'merry': 521, 'christmas': 163, 'kiss': 441, 'pete': 639, 'problem': 671, 'reading': 685, 'read': 684, 'light': 468, 'return': 700, 'immediately': 417, 'line': 470, 'via': 901, 'valentine': 896, '150pmsg': 13, 'calling': 135, 'post': 661, '1000': 6, 'two': 872, 'tc': 817, 'small': 767, 'txts': 875, '150': 11, 'ever': 281, 'figure': 305, 'jay': 426, '5': 23, 'ago': 49, 'met': 523, 'ex': 285, 'currently': 200, 'moment': 538, 'st': 788, 'chikku': 160, 'motorola': 546, 'orange': 612, 'mobileupd8': 536, '08000839402': 1, 'discount': 231, 'woke': 953, 'talking': 816, 'seen': 733, 'project': 672, 'mistake': 532, 'quite': 677, 'slow': 764, 'reason': 689, 'couple': 192, 'leave': 459, 'mm': 533, 'rental': 695, 'huh': 407, 'sat': 718, 'office': 595, 'bout': 117, 'actually': 40, 'rock': 708, 'put': 675, 'as': 74, 'al': 52, 'god': 349, 'india': 420, 'change': 151, 'poly': 658, '1st': 17, 'none': 581, 'yep': 980, 'pm': 653, 'drink': 247, 'den': 222, 'bring': 122, 'dating': 210, 'å250': 992, 'head': 379, 'eve': 278, 'land': 446, 'voice': 904, '7': 26, 'mind': 526, 'fucking': 331, 'ldn': 455, 'booked': 114, 'th': 826, 'ten': 822, 'gd': 340, 'supposed': 806, 'tot': 859, 'detail': 223, 'å500': 994, 'welcome': 925, 'beautiful': 100, 'kind': 440, 'asking': 79, 'bad': 93, 'different': 226, 'optout': 611, 'princess': 666, 'enjoy': 272, 'many': 506, 'sae': 714, 'remove': 693, 'cum': 199, 'thinking': 836, 'term': 823, 'visit': 903, '6': 25, 'meh': 518, 'nope': 583, 'monday': 539, 'either': 263, 'lose': 484, 'water': 920, 'bored': 115, 'outside': 621, 'park': 630, 'near': 564, 'rent': 694, 'opinion': 609, '8': 28, 'simple': 756, 'frm': 326, 'ipod': 425, 'le': 456, 'fri': 322, 'attempt': 80, 'savamob': 720, 'member': 519, 'sub': 801, 'pretty': 664, 'lady': 445, 'within': 948, '2003': 19, '800': 29, 'hoping': 398, 'across': 39, 'sea': 727, 'probably': 670, 'listen': 472, 'mine': 527, 'through': 841, 'warm': 916, 'cheap': 155, 'online': 604, 'pic': 642, 'fast': 299, 'fuck': 330, 'gym': 365, 'whatever': 929, 'yar': 977, 'mum': 555, 'sch': 725, 'clean': 166, 'door': 241, 'kid': 439, 'em': 265, 'train': 862, 'noon': 582, 'neva': 567, 'family': 294, 'happiness': 374, 'snow': 772, 'together': 850, 'pub': 674, 'darren': 207, 'area': 72, 'å350': 993, 'dad': 205, 'email': 266, 'town': 861, 'drug': 251, 'sun': 803, 'paper': 628, 'de': 212, 'ho': 393, 'laugh': 454, 'opt': 610, 'saying': 724, 'knw': 444, 'sex': 742, 'an': 61, 'gap': 337, 'û_': 999, 'idea': 412, 'away': 86, 'fantastic': 296, 'w': 906, 'sell': 735, 'b4': 89, 'feeling': 302, 'mayb': 511, 'rite': 706, 'gal': 335, 'glad': 347, 'eye': 290, 'anyone': 66, 'possible': 660, 'wishing': 945, 'summer': 802, 'store': 796, 'goin': 350, 'wonder': 955, 'drive': 248, 'picking': 644, 'lovely': 490, 'no1': 577, 'mate': 509, 'ugh': 878, 'gift': 344, 'å100': 987, 'bag': 94, 'gettin': 342, 'extra': 289, '8007': 30, 'understand': 881, 'await': 83, 'collection': 172, 'poor': 659, 'whenever': 932, 'sort': 783, 'asap': 75, 'drop': 250, 'otherwise': 619, 'ntt': 589, 'knew': 442, 'sad': 713, 'plus': 651, '10pmin': 8, 'wrong': 970, 'photo': 641, 'least': 458, 'truth': 867, 'against': 47, 'å800': 996, 'wife': 938, 'earlier': 257, 'loving': 492, 'party': 632, 'heard': 381, 'don': 238, 'nyt': 591, 'f': 291, 'support': 805, 'shes': 745, 'p': 624, 'doctor': 234, 'information': 422, 'surprise': 808, 'grin': 359, 'film': 306, 'luck': 495, 'energy': 270, 'chennai': 159, 'enter': 274, 'nobody': 578, 'wondering': 957, 'others': 618, 'fantasy': 297, 'write': 969, 'cover': 194, 'fact': 293, 'moral': 542, 'alone': 55, 'loved': 489, 'hows': 404, 'auction': 81, 'difficult': 227, 'gas': 338, 'john': 428, 'lei': 463, 'father': 300, 'doin': 237, 'slowly': 765, 'hw': 410, 'excuse': 287, 'med': 515, 'empty': 267, 'police': 657, 'hr': 405}\n",
            "\n",
            "Great is located at row:  358\n"
          ]
        }
      ]
    },
    {
      "cell_type": "markdown",
      "metadata": {
        "id": "Y16poRsBU3yT"
      },
      "source": [
        "- Note that TFIDF __transformer__ requires you to first run `CountVectorizer`"
      ]
    },
    {
      "cell_type": "code",
      "metadata": {
        "id": "npCbiPXxSvNU",
        "colab": {
          "base_uri": "https://localhost:8080/"
        },
        "outputId": "9341566f-df3c-43b4-e0bd-91b1b2b2c85f"
      },
      "source": [
        "#### TF-IDF Vectorize ####\n",
        "\n",
        "# Note that smoothing is done by default\n",
        "tfidf = TfidfTransformer()\n",
        "\n",
        "tfs = tfidf.fit_transform(counts)\n",
        "\n",
        "print(tfs.toarray())\n",
        "\n",
        "# Let's use the TFIDF counts for modelling\n",
        "X = tfs.toarray()\n",
        "\n",
        "# Split the data into training and test sets\n",
        "X_train, X_test, y_train, y_test = train_test_split(X, y, test_size = 0.2, random_state = 42)\n",
        "\n",
        "# First three rows of training features and labels\n",
        "print('First 3 features:\\n',X_train[:3])\n",
        "print('First 3 labels:\\n',y_train[:3])"
      ],
      "execution_count": 41,
      "outputs": [
        {
          "output_type": "stream",
          "name": "stdout",
          "text": [
            "[[0. 0. 0. ... 0. 0. 0.]\n",
            " [0. 0. 0. ... 0. 0. 0.]\n",
            " [0. 0. 0. ... 0. 0. 0.]\n",
            " ...\n",
            " [0. 0. 0. ... 0. 0. 0.]\n",
            " [0. 0. 0. ... 0. 0. 0.]\n",
            " [0. 0. 0. ... 0. 0. 0.]]\n",
            "First 3 features:\n",
            " [[0. 0. 0. ... 0. 0. 0.]\n",
            " [0. 0. 0. ... 0. 0. 0.]\n",
            " [0. 0. 0. ... 0. 0. 0.]]\n",
            "First 3 labels:\n",
            " [0. 1. 0.]\n"
          ]
        }
      ]
    },
    {
      "cell_type": "markdown",
      "metadata": {
        "id": "oqASO5dQn8Wd"
      },
      "source": [
        "<br>\n",
        "\n",
        "## 7. Binary Classification with the Naive Bayes Model\n",
        "\n",
        "__The Basic Setup__\n",
        "\n",
        "- We're interested in classifying our documents into two classes. Let's call these classes $S$ and $H$, for Spam and Ham. How might we use our tokens to predict the class?\n",
        "- __Idea__: Let's try to model the probabilities of each class __conditional on the tokens in the document__. Suppose our message has D tokens. It might not be obvious how to do this, but we can rely on Bayes Rule:\n",
        "\n",
        "$$ Pr(S|w_1 , \\cdots , w_D)  = \\frac{Pr(w_1 , \\cdots , w_D | S) Pr(S)}{Pr(w_1 , \\cdots , w_D)} \\propto Pr(w_1 , \\cdots , w_D | S) Pr(S) $$\n",
        "\n",
        "So the probability that our message is spam is equal to the probability that we get these words given the message is spam, multiplied by the probability of any message being spam (this is pretty intuitive).\n",
        "\n",
        "- __Problem__: How in the world do we estimate $Pr(w_1 , \\cdots , w_D | S)$?\n",
        "\n",
        "- __Solution__: We use a __naive__ assumption. Let's assume that words are independent of each other conditional on class (this is obviously not true in reality, but it makes our lives easier). Then we can rewrite our probability:\n",
        "\n",
        "$$ Pr(S|w_1 , \\cdots , w_D)  = \\propto \\Pi_{i=1}^{D}Pr(w_i | S) Pr(S) $$\n",
        "\n",
        "Now we have something we can estimate. Assume V is the set of all words in your training corpus. The __Naive Bayes__ approach does the following:\n",
        "- 1. Estimate $\\hat{Pr}(S) = \\frac{N_s}{N}$, where $N_s$ is the number of documents labelled as S. Similarly estimate $\\hat{Pr}(H) = 1 - \\hat{Pr}(S)$.\n",
        "- 2. For every token in every document, estimate $\\hat{Pr}(w_i|S) = \\frac{count(w_i|S)}{\\Sigma_{w \\in V} count(w_i|S)}$, where $count(w_i|S)$ is the number of times token $w_i$ appears __in all spam documents__, and $\\Sigma_{w \\in V} count(w_i|S)$ is the total number of words in all spam documents. Do a similar computation for Ham documents and tokens. \n",
        "- 3. Once we have these probabilities, we can compute $\\hat{Pr}(S|w_1 , \\cdots , w_D)$ and $\\hat{Pr}(H|w_1 , \\cdots , w_D)$ for any new document. Then we simply label that document as Spam or Ham, depending on which probability is larger.\n",
        "\n",
        "__One small problem__: If a word in the test corpus does not appear in the training corpus, it will have a count (and thus a probability) of zero. This will make the entire $\\hat{Pr}(S|w_1 , \\cdots , w_D) = 0$, even if other words in the document still have positive probability. To deal with this, we use __smoothing__, assigning every word an arbitrarily low probability. There are different ways to do this, but here is a technique called __Laplace Smoothing__:\n",
        "$$\\hat{Pr}(w_i|S) = \\frac{count(w_i|S) + 1}{\\Sigma_{w \\in V} (count(w_i|S) + 1)}$$\n",
        "\n",
        "<br>\n",
        "\n",
        "- This probability estimation approach is called __Bag of Words (BOW)__, because we treat classes and documents as collections of words, where order does not matter.\n",
        "\n",
        "This can easily be extended to the multiclass setting (which is on your assignment). But don't worry! `Scikit-learn` handles all of these calculations for you. For the case of TFIDF data, we would simply replace $count()$ in the above formula with the TFIDF score.\n"
      ]
    },
    {
      "cell_type": "code",
      "metadata": {
        "id": "45NPx7JpHLIs",
        "colab": {
          "base_uri": "https://localhost:8080/"
        },
        "outputId": "6f993c3b-d351-4e2e-d23c-790f8c8a7317"
      },
      "source": [
        "from sklearn.naive_bayes import MultinomialNB\n",
        "from sklearn.metrics import accuracy_score, roc_curve\n",
        "import matplotlib.pyplot as plt\n",
        "\n",
        "# Let's fit the Naive Bayes model to our training data\n",
        "nb = MultinomialNB()\n",
        "# Fit model to training data\n",
        "nb.fit(X_train, y_train)\n",
        "# Predict on test data\n",
        "y_preds = nb.predict(X_test)\n",
        "\n",
        "print('Test accuracy with simple Naive Bayes:',accuracy_score(y_test,y_preds))\n",
        "# We get a very good accuracy, despite class imbalance (recall 87% were Ham)"
      ],
      "execution_count": 42,
      "outputs": [
        {
          "output_type": "stream",
          "name": "stdout",
          "text": [
            "Test accuracy with simple Naive Bayes: 0.9757847533632287\n"
          ]
        }
      ]
    },
    {
      "cell_type": "markdown",
      "metadata": {
        "id": "k7mfqKARYz4U"
      },
      "source": [
        "That was a lot of content in a short period of time.\n",
        "\n",
        "<br>\n",
        "\n",
        "<br>\n",
        "\n",
        "# __QUESTIONS?__"
      ]
    }
  ]
}